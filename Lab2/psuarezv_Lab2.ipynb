{
  "cells": [
    {
      "cell_type": "markdown",
      "metadata": {
        "id": "view-in-github",
        "colab_type": "text"
      },
      "source": [
        "<a href=\"https://colab.research.google.com/github/Pab10Suarez/MetNumUN2024I/blob/main/Lab2/psuarezv_Lab2.ipynb\" target=\"_parent\"><img src=\"https://colab.research.google.com/assets/colab-badge.svg\" alt=\"Open In Colab\"/></a>"
      ]
    },
    {
      "cell_type": "code",
      "execution_count": 69,
      "metadata": {
        "colab": {
          "base_uri": "https://localhost:8080/"
        },
        "id": "Stm7UJEGsPAv",
        "outputId": "46fcf3ee-b0b8-49e0-d8a1-e487dab88b91"
      },
      "outputs": [
        {
          "output_type": "stream",
          "name": "stdout",
          "text": [
            "Requirement already satisfied: fortran-magic in /usr/local/lib/python3.10/dist-packages (0.8)\n",
            "Requirement already satisfied: ipython in /usr/local/lib/python3.10/dist-packages (from fortran-magic) (7.34.0)\n",
            "Requirement already satisfied: numpy in /usr/local/lib/python3.10/dist-packages (from fortran-magic) (1.25.2)\n",
            "Requirement already satisfied: setuptools>=18.5 in /usr/local/lib/python3.10/dist-packages (from ipython->fortran-magic) (67.7.2)\n",
            "Requirement already satisfied: jedi>=0.16 in /usr/local/lib/python3.10/dist-packages (from ipython->fortran-magic) (0.19.1)\n",
            "Requirement already satisfied: decorator in /usr/local/lib/python3.10/dist-packages (from ipython->fortran-magic) (4.4.2)\n",
            "Requirement already satisfied: pickleshare in /usr/local/lib/python3.10/dist-packages (from ipython->fortran-magic) (0.7.5)\n",
            "Requirement already satisfied: traitlets>=4.2 in /usr/local/lib/python3.10/dist-packages (from ipython->fortran-magic) (5.7.1)\n",
            "Requirement already satisfied: prompt-toolkit!=3.0.0,!=3.0.1,<3.1.0,>=2.0.0 in /usr/local/lib/python3.10/dist-packages (from ipython->fortran-magic) (3.0.43)\n",
            "Requirement already satisfied: pygments in /usr/local/lib/python3.10/dist-packages (from ipython->fortran-magic) (2.16.1)\n",
            "Requirement already satisfied: backcall in /usr/local/lib/python3.10/dist-packages (from ipython->fortran-magic) (0.2.0)\n",
            "Requirement already satisfied: matplotlib-inline in /usr/local/lib/python3.10/dist-packages (from ipython->fortran-magic) (0.1.6)\n",
            "Requirement already satisfied: pexpect>4.3 in /usr/local/lib/python3.10/dist-packages (from ipython->fortran-magic) (4.9.0)\n",
            "Requirement already satisfied: parso<0.9.0,>=0.8.3 in /usr/local/lib/python3.10/dist-packages (from jedi>=0.16->ipython->fortran-magic) (0.8.3)\n",
            "Requirement already satisfied: ptyprocess>=0.5 in /usr/local/lib/python3.10/dist-packages (from pexpect>4.3->ipython->fortran-magic) (0.7.0)\n",
            "Requirement already satisfied: wcwidth in /usr/local/lib/python3.10/dist-packages (from prompt-toolkit!=3.0.0,!=3.0.1,<3.1.0,>=2.0.0->ipython->fortran-magic) (0.2.13)\n"
          ]
        }
      ],
      "source": [
        "!pip install -U fortran-magic"
      ]
    },
    {
      "cell_type": "code",
      "execution_count": 70,
      "metadata": {
        "autoscroll": false,
        "colab": {
          "base_uri": "https://localhost:8080/"
        },
        "ein.tags": "worksheet-0",
        "id": "FrAt48DtiXb-",
        "outputId": "980e330d-e9aa-4475-a1dd-007cc149b772"
      },
      "outputs": [
        {
          "output_type": "stream",
          "name": "stdout",
          "text": [
            "The fortranmagic extension is already loaded. To reload it, use:\n",
            "  %reload_ext fortranmagic\n"
          ]
        }
      ],
      "source": [
        "%matplotlib inline\n",
        "%load_ext fortranmagic\n",
        "\n",
        "import sys; sys.path.append('..')\n",
        "\n",
        "import pandas as pd\n",
        "import numpy as np\n",
        "import matplotlib as mpl\n",
        "import matplotlib.pyplot as plt\n",
        "import seaborn as sns\n",
        "\n",
        "mpl.rc('figure', figsize=(12, 7))\n",
        "\n",
        "ran_the_first_cell = True\n",
        "\n",
        "jan2017 = pd.to_datetime(['2017-01-03 00:00:00+00:00',\n",
        " '2017-01-04 00:00:00+00:00',\n",
        " '2017-01-05 00:00:00+00:00',\n",
        " '2017-01-06 00:00:00+00:00',\n",
        " '2017-01-09 00:00:00+00:00',\n",
        " '2017-01-10 00:00:00+00:00',\n",
        " '2017-01-11 00:00:00+00:00',\n",
        " '2017-01-12 00:00:00+00:00',\n",
        " '2017-01-13 00:00:00+00:00',\n",
        " '2017-01-17 00:00:00+00:00',\n",
        " '2017-01-18 00:00:00+00:00',\n",
        " '2017-01-19 00:00:00+00:00',\n",
        " '2017-01-20 00:00:00+00:00',\n",
        " '2017-01-23 00:00:00+00:00',\n",
        " '2017-01-24 00:00:00+00:00',\n",
        " '2017-01-25 00:00:00+00:00',\n",
        " '2017-01-26 00:00:00+00:00',\n",
        " '2017-01-27 00:00:00+00:00',\n",
        " '2017-01-30 00:00:00+00:00',\n",
        " '2017-01-31 00:00:00+00:00',\n",
        " '2017-02-01 00:00:00+00:00'])\n",
        "calendar = jan2017.values.astype('datetime64[D]')\n",
        "\n",
        "event_dates = pd.to_datetime(['2017-01-06 00:00:00+00:00',\n",
        "                             '2017-01-07 00:00:00+00:00',\n",
        "                             '2017-01-08 00:00:00+00:00']).values.astype('datetime64[D]')\n",
        "event_values = np.array([10, 15, 20])"
      ]
    },
    {
      "cell_type": "markdown",
      "metadata": {
        "ein.tags": "worksheet-0",
        "id": "lHm410FBiXcC"
      },
      "source": [
        "<center>\n",
        "  <h1>The PyData Toolbox</h1>\n",
        "  <h3>Scott Sanderson (Twitter: @scottbsanderson, GitHub: ssanderson)</h3>\n",
        "  <h3><a href=\"https://github.com/ssanderson/pydata-toolbox\">https://github.com/ssanderson/pydata-toolbox</a></h3>\n",
        "</center>"
      ]
    },
    {
      "cell_type": "markdown",
      "metadata": {
        "collapsed": true,
        "ein.tags": "worksheet-0",
        "id": "0CXHsFMBiXcD"
      },
      "source": [
        "# About Me:\n",
        "\n",
        "<img src=\"https://raw.githubusercontent.com/ssanderson/pydata-toolbox/master/notebooks/images/me.jpg\" alt=\"Drawing\" style=\"width: 300px;\"/>\n",
        "\n",
        "- Senior Engineer at [Quantopian](www.quantopian.com)\n",
        "- Background in Mathematics and Philosophy\n",
        "- **Twitter:** [@scottbsanderson](https://twitter.com/scottbsanderson)\n",
        "- **GitHub:** [ssanderson](github.com/ssanderson)"
      ]
    },
    {
      "cell_type": "markdown",
      "metadata": {
        "id": "tcOO-3C8iXcE"
      },
      "source": [
        "## Outline\n",
        "\n",
        "- Built-in Data Structures\n",
        "- Numpy `array`\n",
        "- Pandas `Series`/`DataFrame`\n",
        "- Plotting and \"Real-World\" Analyses"
      ]
    },
    {
      "cell_type": "markdown",
      "metadata": {
        "id": "qGj-c9CliXcE"
      },
      "source": [
        "# Data Structures"
      ]
    },
    {
      "cell_type": "markdown",
      "metadata": {
        "id": "Nsn-QHmCiXcF"
      },
      "source": [
        "> Rule 5. Data dominates. If you've chosen the right data structures and organized things well, the algorithms\n",
        "will almost always be self-evident. Data structures, not algorithms, are central to programming.\n",
        "\n",
        "- *Notes on Programming in C*, by Rob Pike."
      ]
    },
    {
      "cell_type": "markdown",
      "metadata": {
        "id": "_yhFg_rXiXcF"
      },
      "source": [
        "# Lists"
      ]
    },
    {
      "cell_type": "code",
      "execution_count": 71,
      "metadata": {
        "collapsed": true,
        "id": "97QvmzbqiXcG"
      },
      "outputs": [],
      "source": [
        "assert ran_the_first_cell, \"Oh noes!\""
      ]
    },
    {
      "cell_type": "code",
      "execution_count": 72,
      "metadata": {
        "colab": {
          "base_uri": "https://localhost:8080/"
        },
        "id": "nhIZgNXLiXcG",
        "outputId": "9c929a48-e34d-477d-e800-7b8fc8b07d20"
      },
      "outputs": [
        {
          "output_type": "execute_result",
          "data": {
            "text/plain": [
              "[1, 'two', 3.0, 4, 5.0, 'six']"
            ]
          },
          "metadata": {},
          "execution_count": 72
        }
      ],
      "source": [
        "l = [1, 'two', 3.0, 4, 5.0, \"six\"]\n",
        "l"
      ]
    },
    {
      "cell_type": "code",
      "execution_count": 73,
      "metadata": {
        "colab": {
          "base_uri": "https://localhost:8080/"
        },
        "id": "Cjj8bfDAiXcH",
        "outputId": "3ff3b736-c582-4477-ddb7-d69c1cc7865e"
      },
      "outputs": [
        {
          "output_type": "stream",
          "name": "stdout",
          "text": [
            "first: 1\n",
            "second: two\n"
          ]
        }
      ],
      "source": [
        "# Lists can be indexed like C-style arrays.\n",
        "first = l[0]\n",
        "second = l[1]\n",
        "print(\"first:\", first)\n",
        "print(\"second:\", second)"
      ]
    },
    {
      "cell_type": "code",
      "execution_count": 74,
      "metadata": {
        "colab": {
          "base_uri": "https://localhost:8080/"
        },
        "id": "cVozluPbiXcH",
        "outputId": "1b700f8f-b7a0-49e8-971b-7f3d34eeaaea"
      },
      "outputs": [
        {
          "output_type": "stream",
          "name": "stdout",
          "text": [
            "last: six\n",
            "second to last: 5.0\n"
          ]
        }
      ],
      "source": [
        "# Negative indexing gives elements relative to the end of the list.\n",
        "last = l[-1]\n",
        "penultimate = l[-2]\n",
        "print(\"last:\", last)\n",
        "print(\"second to last:\", penultimate)"
      ]
    },
    {
      "cell_type": "code",
      "execution_count": 75,
      "metadata": {
        "colab": {
          "base_uri": "https://localhost:8080/"
        },
        "id": "PTqqm8MeiXcI",
        "outputId": "5fe7c33c-a15d-4d83-f246-6298b87e27d3"
      },
      "outputs": [
        {
          "output_type": "execute_result",
          "data": {
            "text/plain": [
              "['two', 3.0]"
            ]
          },
          "metadata": {},
          "execution_count": 75
        }
      ],
      "source": [
        "# Lists can also be sliced, which makes a copy of elements between\n",
        "# start (inclusive) and stop (exclusive)\n",
        "sublist = l[1:3]\n",
        "sublist"
      ]
    },
    {
      "cell_type": "code",
      "execution_count": 76,
      "metadata": {
        "colab": {
          "base_uri": "https://localhost:8080/"
        },
        "id": "ugUUXXUViXcI",
        "outputId": "c824cc70-493e-4abb-e4b6-224dc07c7be0"
      },
      "outputs": [
        {
          "output_type": "execute_result",
          "data": {
            "text/plain": [
              "[1, 'two', 3.0]"
            ]
          },
          "metadata": {},
          "execution_count": 76
        }
      ],
      "source": [
        "# l[:N] is equivalent to l[0:N].\n",
        "first_three = l[:3]\n",
        "first_three"
      ]
    },
    {
      "cell_type": "code",
      "execution_count": 77,
      "metadata": {
        "colab": {
          "base_uri": "https://localhost:8080/"
        },
        "id": "otoRjbK7iXcI",
        "outputId": "06995595-dd28-4870-cb67-830555a15054"
      },
      "outputs": [
        {
          "output_type": "execute_result",
          "data": {
            "text/plain": [
              "[4, 5.0, 'six']"
            ]
          },
          "metadata": {},
          "execution_count": 77
        }
      ],
      "source": [
        "# l[3:] is equivalent to l[3:len(l)].\n",
        "after_three = l[3:]\n",
        "after_three"
      ]
    },
    {
      "cell_type": "code",
      "execution_count": 78,
      "metadata": {
        "colab": {
          "base_uri": "https://localhost:8080/"
        },
        "id": "2ZndPPspiXcJ",
        "outputId": "ae856807-6cb4-48bb-8fab-1465b51f051a"
      },
      "outputs": [
        {
          "output_type": "execute_result",
          "data": {
            "text/plain": [
              "['b', 'd', 'f']"
            ]
          },
          "metadata": {},
          "execution_count": 78
        }
      ],
      "source": [
        "# There's also a third parameter, \"step\", which gets every Nth element.\n",
        "l = ['a', 'b', 'c', 'd', 'e', 'f', 'g','h']\n",
        "l[1:7:2]"
      ]
    },
    {
      "cell_type": "code",
      "execution_count": 79,
      "metadata": {
        "colab": {
          "base_uri": "https://localhost:8080/"
        },
        "id": "dt2OMhnZiXcJ",
        "outputId": "f2b17c75-9814-4643-e0bd-14ce820b1443"
      },
      "outputs": [
        {
          "output_type": "execute_result",
          "data": {
            "text/plain": [
              "['h', 'g', 'f', 'e', 'd', 'c', 'b', 'a']"
            ]
          },
          "metadata": {},
          "execution_count": 79
        }
      ],
      "source": [
        "# This is a cute way to reverse a list.\n",
        "l[::-1]"
      ]
    },
    {
      "cell_type": "code",
      "execution_count": 80,
      "metadata": {
        "colab": {
          "base_uri": "https://localhost:8080/"
        },
        "id": "uDIdawFwiXcJ",
        "outputId": "e5a23c51-9fef-44ea-bcc2-9c47afd76b8c"
      },
      "outputs": [
        {
          "output_type": "stream",
          "name": "stdout",
          "text": [
            "Before: [1, 2, 3, 4, 5]\n",
            "After: [1, 2, 3, 4, 5, 'six']\n"
          ]
        }
      ],
      "source": [
        "# Lists can be grown efficiently (in O(1) amortized time).\n",
        "l = [1, 2, 3, 4, 5]\n",
        "print(\"Before:\", l)\n",
        "l.append('six')\n",
        "print(\"After:\", l)"
      ]
    },
    {
      "cell_type": "code",
      "execution_count": 81,
      "metadata": {
        "colab": {
          "base_uri": "https://localhost:8080/"
        },
        "id": "OIhO0xxUiXcK",
        "outputId": "15cfaba6-fd50-4c97-d144-5568fa23efab"
      },
      "outputs": [
        {
          "output_type": "execute_result",
          "data": {
            "text/plain": [
              "[2, 4, 6, 8, 10]"
            ]
          },
          "metadata": {},
          "execution_count": 81
        }
      ],
      "source": [
        "# Comprehensions let us perform elementwise computations.\n",
        "l = [1, 2, 3, 4, 5]\n",
        "[x * 2 for x in l]"
      ]
    },
    {
      "cell_type": "markdown",
      "metadata": {
        "ein.tags": "worksheet-0",
        "id": "gh1Uw4KtiXcK"
      },
      "source": [
        "## Review: Python Lists\n",
        "\n",
        "- Zero-indexed sequence of arbitrary Python values.\n",
        "- Slicing syntax: `l[start:stop:step]` copies elements at regular intervals from `start` to `stop`.\n",
        "- Efficient (`O(1)`) appends and removes from end.\n",
        "- Comprehension syntax: `[f(x) for x in l if cond(x)]`."
      ]
    },
    {
      "cell_type": "markdown",
      "metadata": {
        "id": "KPeFQQs5iXcK"
      },
      "source": [
        "# Dictionaries"
      ]
    },
    {
      "cell_type": "code",
      "execution_count": 82,
      "metadata": {
        "colab": {
          "base_uri": "https://localhost:8080/"
        },
        "id": "55GAxN3AiXcL",
        "outputId": "5e30a009-b3e4-43b4-d33e-889a9a7f635b"
      },
      "outputs": [
        {
          "output_type": "execute_result",
          "data": {
            "text/plain": [
              "{'David': 'Hume', 'Immanuel': 'Kant', 'Bertrand': 'Russell'}"
            ]
          },
          "metadata": {},
          "execution_count": 82
        }
      ],
      "source": [
        "# Dictionaries are key-value mappings.\n",
        "philosophers = {'David': 'Hume', 'Immanuel': 'Kant', 'Bertrand': 'Russell'}\n",
        "philosophers"
      ]
    },
    {
      "cell_type": "code",
      "execution_count": 83,
      "metadata": {
        "colab": {
          "base_uri": "https://localhost:8080/"
        },
        "id": "V3JS2kHSiXcL",
        "outputId": "e923951d-33e8-4fd0-af41-a99e77b62512"
      },
      "outputs": [
        {
          "output_type": "execute_result",
          "data": {
            "text/plain": [
              "{'David': 'Hume',\n",
              " 'Immanuel': 'Kant',\n",
              " 'Bertrand': 'Russell',\n",
              " 'Ludwig': 'Wittgenstein'}"
            ]
          },
          "metadata": {},
          "execution_count": 83
        }
      ],
      "source": [
        "# Like lists, dictionaries are size-mutable.\n",
        "philosophers['Ludwig'] = 'Wittgenstein'\n",
        "philosophers"
      ]
    },
    {
      "cell_type": "code",
      "execution_count": 84,
      "metadata": {
        "colab": {
          "base_uri": "https://localhost:8080/"
        },
        "id": "YRGePTociXcL",
        "outputId": "38cf0a94-8cf8-42f3-9342-38fe3548a470"
      },
      "outputs": [
        {
          "output_type": "execute_result",
          "data": {
            "text/plain": [
              "{'Immanuel': 'Kant', 'Bertrand': 'Russell', 'Ludwig': 'Wittgenstein'}"
            ]
          },
          "metadata": {},
          "execution_count": 84
        }
      ],
      "source": [
        "del philosophers['David']\n",
        "philosophers"
      ]
    },
    {
      "cell_type": "code",
      "execution_count": 85,
      "metadata": {
        "colab": {
          "base_uri": "https://localhost:8080/",
          "height": 158
        },
        "id": "2E4f_6pQiXcM",
        "outputId": "45a9fde0-14f7-41a0-d047-779d292f5ef2"
      },
      "outputs": [
        {
          "output_type": "error",
          "ename": "TypeError",
          "evalue": "unhashable type: 'slice'",
          "traceback": [
            "\u001b[0;31m---------------------------------------------------------------------------\u001b[0m",
            "\u001b[0;31mTypeError\u001b[0m                                 Traceback (most recent call last)",
            "\u001b[0;32m<ipython-input-85-042d882bd6b0>\u001b[0m in \u001b[0;36m<cell line: 2>\u001b[0;34m()\u001b[0m\n\u001b[1;32m      1\u001b[0m \u001b[0;31m# No slicing.\u001b[0m\u001b[0;34m\u001b[0m\u001b[0;34m\u001b[0m\u001b[0m\n\u001b[0;32m----> 2\u001b[0;31m \u001b[0mphilosophers\u001b[0m\u001b[0;34m[\u001b[0m\u001b[0;34m'Bertrand'\u001b[0m\u001b[0;34m:\u001b[0m\u001b[0;34m'Immanuel'\u001b[0m\u001b[0;34m]\u001b[0m\u001b[0;34m\u001b[0m\u001b[0;34m\u001b[0m\u001b[0m\n\u001b[0m",
            "\u001b[0;31mTypeError\u001b[0m: unhashable type: 'slice'"
          ]
        }
      ],
      "source": [
        "# No slicing.\n",
        "philosophers['Bertrand':'Immanuel']"
      ]
    },
    {
      "cell_type": "markdown",
      "metadata": {
        "ein.tags": "worksheet-0",
        "id": "xvN8eqK2iXcM"
      },
      "source": [
        "## Review: Python Dictionaries\n",
        "\n",
        "- Unordered key-value mapping from (almost) arbitrary keys to arbitrary values.\n",
        "- Efficient (`O(1)`) lookup, insertion, and deletion.\n",
        "- No slicing (would require a notion of order)."
      ]
    },
    {
      "cell_type": "markdown",
      "metadata": {
        "id": "3C9gwhYDiXcM"
      },
      "source": [
        "<center><img src=\"https://raw.githubusercontent.com/ssanderson/pydata-toolbox/master/notebooks/images/pacino.gif\" alt=\"Drawing\" style=\"width: 100%;\"/></center>\n"
      ]
    },
    {
      "cell_type": "code",
      "execution_count": null,
      "metadata": {
        "collapsed": true,
        "id": "eqFZgJyyiXcM"
      },
      "outputs": [],
      "source": [
        "# Suppose we have some matrices...\n",
        "a = [[1, 2, 3],\n",
        "     [2, 3, 4],\n",
        "     [5, 6, 7],\n",
        "     [1, 1, 1]]\n",
        "\n",
        "b = [[1, 2, 3, 4],\n",
        "     [2, 3, 4, 5]]"
      ]
    },
    {
      "cell_type": "code",
      "execution_count": null,
      "metadata": {
        "collapsed": true,
        "id": "TfFqABAMiXcM"
      },
      "outputs": [],
      "source": [
        "def matmul(A, B):\n",
        "    \"\"\"Multiply matrix A by matrix B.\"\"\"\n",
        "    rows_out = len(A)\n",
        "    cols_out = len(B[0])\n",
        "    out = [[0 for col in range(cols_out)] for row in range(rows_out)]\n",
        "\n",
        "    for i in range(rows_out):\n",
        "        for j in range(cols_out):\n",
        "            for k in range(len(B)):\n",
        "                out[i][j] += A[i][k] * B[k][j]\n",
        "    return out"
      ]
    },
    {
      "cell_type": "markdown",
      "metadata": {
        "id": "Yuee_jmYiXcN"
      },
      "source": [
        "<center><img src=\"https://raw.githubusercontent.com/ssanderson/pydata-toolbox/master/notebooks/images/gross.gif\" alt=\"Drawing\" style=\"width: 50%;\"/></center>\n"
      ]
    },
    {
      "cell_type": "code",
      "execution_count": null,
      "metadata": {
        "id": "PerN-NDRiXcN"
      },
      "outputs": [],
      "source": [
        "%%time\n",
        "\n",
        "matmul(a, b)"
      ]
    },
    {
      "cell_type": "markdown",
      "metadata": {
        "id": "AAcF7qrOv8KF"
      },
      "source": [
        "**My own example 0 - cpu info**"
      ]
    },
    {
      "cell_type": "code",
      "execution_count": null,
      "metadata": {
        "id": "BQl1PQDJwDkc"
      },
      "outputs": [],
      "source": [
        "!cat /proc/cpuinfo"
      ]
    },
    {
      "cell_type": "markdown",
      "metadata": {
        "id": "EFlf_ZLgsUEo"
      },
      "source": [
        "**My own example 1 - Changing in matmul(A, B) Python len(B) (# of rows of B) for len(A[0]) (# of columns of A)**"
      ]
    },
    {
      "cell_type": "code",
      "execution_count": null,
      "metadata": {
        "id": "f_bKG-2SAkvl"
      },
      "outputs": [],
      "source": [
        "def matmul(A, B):\n",
        "    \"\"\"Multiply matrix A by matrix B.\"\"\"\n",
        "    \"\"\"Multiplico filas de A\"\"\"\n",
        "    rows_out = len(A)\n",
        "    \"\"\"Por columnas de B\"\"\"\n",
        "    cols_out = len(B[0])\n",
        "    out = [[0 for col in range(cols_out)] for row in range(rows_out)]\n",
        "\n",
        "    for i in range(rows_out):\n",
        "        for j in range(cols_out):\n",
        "            for k in range(len(A[0])):\n",
        "                out[i][j] += A[i][k] * B[k][j]\n",
        "    return out"
      ]
    },
    {
      "cell_type": "markdown",
      "metadata": {
        "id": "8sLiMfvlUJzp"
      },
      "source": [
        "**My own example 2 - Verifiying error with in matmul(A, B) Python with the original matrices when changing len(B) (# of rows of B) for len(A[0]) (# of colums of A)**"
      ]
    },
    {
      "cell_type": "code",
      "execution_count": null,
      "metadata": {
        "id": "Gk40qFqlBNTF"
      },
      "outputs": [],
      "source": [
        "%%time\n",
        "#matmul(a, b) ##the number of columns of matrix 'a' is not equal to the number of rows of matrix 'b'."
      ]
    },
    {
      "cell_type": "markdown",
      "metadata": {
        "id": "AGztFKBNuQ_e"
      },
      "source": [
        "**My own example 3 - Chekcing the mtarix multiplication compatibility condition  len(A[0]) == len(B)**"
      ]
    },
    {
      "cell_type": "code",
      "execution_count": null,
      "metadata": {
        "id": "6i2lxBAjBdkU"
      },
      "outputs": [],
      "source": [
        "def matmul(A,B):\n",
        "    if len(A[0]) == len(B):\n",
        "      out = [[0 for col in range(len(B[0]))] for row in range(len(A))]\n",
        "      for i in range(len(A)):\n",
        "          for j in range(len(B[0])):\n",
        "              for k in range(len(A[0])):\n",
        "                  out[i][j] += A[i][k] * B[k][j]\n",
        "      return out\n",
        "    else:\n",
        "        return (\"No se pueden multiplicar las matrices.\")"
      ]
    },
    {
      "cell_type": "markdown",
      "metadata": {
        "id": "A4SoDNPpuZpp"
      },
      "source": [
        "**My own example 4 -  Verifiying error with in matmul(A, B) Python when checking the mtarix multiplication compatibility condition  len(A[0]) == len(B)**"
      ]
    },
    {
      "cell_type": "code",
      "execution_count": null,
      "metadata": {
        "id": "O-aMOLRLBgRF"
      },
      "outputs": [],
      "source": [
        "%%time\n",
        "matmul(a, b)"
      ]
    },
    {
      "cell_type": "markdown",
      "metadata": {
        "id": "MZTTYVu0ufCY"
      },
      "source": [
        "**My own example 5 - Deifining A and B that are compatible for multiplcation**"
      ]
    },
    {
      "cell_type": "code",
      "execution_count": null,
      "metadata": {
        "id": "oTkL1f7tBhZc"
      },
      "outputs": [],
      "source": [
        "A = [[14, 15, 16, 17],\n",
        "[18, 19, 20, 21],\n",
        "[22, 23, 24, 25],\n",
        "[26, 27, 28, 29]]\n",
        "\n",
        "B = [[5, 9, 12, 3],\n",
        "[1, 8, 6, 11],\n",
        "[0, 2, 7, 4],\n",
        "[10, 15, 14, 13]]"
      ]
    },
    {
      "cell_type": "markdown",
      "metadata": {
        "id": "GM5DAXUIuhEg"
      },
      "source": [
        "**My own example 6 - Runinng the correct Python matrix multiplication code with the matrices with dimensions compatible for multiplication.**"
      ]
    },
    {
      "cell_type": "code",
      "execution_count": null,
      "metadata": {
        "id": "STtijbqaB-jf"
      },
      "outputs": [],
      "source": [
        "%%time\n",
        "matmul(A, B)"
      ]
    },
    {
      "cell_type": "code",
      "execution_count": null,
      "metadata": {
        "id": "X2ONa03gCCoE"
      },
      "outputs": [],
      "source": [
        "import random"
      ]
    },
    {
      "cell_type": "code",
      "execution_count": null,
      "metadata": {
        "id": "bEVIVCS4CFiM"
      },
      "outputs": [],
      "source": [
        "random.normalvariate(0,1)"
      ]
    },
    {
      "cell_type": "code",
      "execution_count": null,
      "metadata": {
        "id": "Rw58jYbECHy8"
      },
      "outputs": [],
      "source": [
        "import random\n",
        "def random_matrix(m, n):\n",
        "    out = []\n",
        "    for row in range(m):\n",
        "        out.append([random.random() for _ in range(n)])\n",
        "    return out\n",
        "\n",
        "randm = random_matrix(2, 3)\n",
        "randm"
      ]
    },
    {
      "cell_type": "markdown",
      "metadata": {
        "id": "3-eUeNjHhHP7"
      },
      "source": [
        "**My own example 7 - Running 10 times matmul(randa, randb) with randa and randb a randon matrices of 600 x 100 and 100 x 600 and calulating the average execution time**"
      ]
    },
    {
      "cell_type": "code",
      "execution_count": null,
      "metadata": {
        "id": "tKPPgcNNCPzT"
      },
      "outputs": [],
      "source": [
        "%%time\n",
        "matrixa1 = random_matrix(600, 100)\n",
        "matrixb2 = random_matrix(100, 600)\n",
        "result = matmul(matrixa1, matrixb2)"
      ]
    },
    {
      "cell_type": "code",
      "execution_count": null,
      "metadata": {
        "id": "3dAXUbW3Cbu0"
      },
      "outputs": [],
      "source": [
        "import time\n",
        "run = 10\n",
        "avg = 0\n",
        "for i in range(run):\n",
        "  start = time.process_time()\n",
        "  result = matmul(matrixa1, matrixb2)\n",
        "  end = time.process_time()\n",
        "  print(end - start)\n",
        "  avg += end - start\n",
        "print(avg/10)"
      ]
    },
    {
      "cell_type": "markdown",
      "metadata": {
        "id": "FXisJPNSN-Tf"
      },
      "source": [
        "**My own example 8 - Creating the average execution time data frame and adding Python's average execution time**"
      ]
    },
    {
      "cell_type": "code",
      "execution_count": null,
      "metadata": {
        "id": "o9U1cPoPCg7M"
      },
      "outputs": [],
      "source": [
        "com_time_ex = {'Language': ['Pyhton'], 'Average Secs': [avg/10]}\n",
        "DF_com_time_ex = pd.DataFrame(com_time_ex)\n",
        "display(DF_com_time_ex)"
      ]
    },
    {
      "cell_type": "markdown",
      "metadata": {
        "id": "OiFYD3tghLcL"
      },
      "source": [
        "**My own example 9 - Running 10 times randa and randb mutiplicaction as NumPy arrays  adding NumPy's average execution time**"
      ]
    },
    {
      "cell_type": "code",
      "execution_count": null,
      "metadata": {
        "id": "FDTSNd7YEIKz"
      },
      "outputs": [],
      "source": [
        "import time\n",
        "\n",
        "matrix_1 = np.array(matrixa1)\n",
        "matrix_2 = np.array(matrixb2)\n",
        "avg = 0\n",
        "for i in range(10):\n",
        "  start = time.process_time()\n",
        "  matrix3 = matrix_1@matrix_2\n",
        "  end = time.process_time()\n",
        "  avg += end - start\n",
        "print(\"The average execution time is: \", avg/10)"
      ]
    },
    {
      "cell_type": "code",
      "execution_count": null,
      "metadata": {
        "id": "glfBLMmlEOhl"
      },
      "outputs": [],
      "source": [
        "DF_com_time_ex.loc[len(DF_com_time_ex.index)] = ['Numpy', avg/10]\n",
        "display(DF_com_time_ex)"
      ]
    },
    {
      "cell_type": "code",
      "execution_count": null,
      "metadata": {
        "id": "RmY2-35NERw0"
      },
      "outputs": [],
      "source": [
        "%%time\n",
        "randa = random_matrix(600, 100)\n",
        "randb = random_matrix(100, 600)\n",
        "x = matmul(randa, randb)"
      ]
    },
    {
      "cell_type": "code",
      "execution_count": null,
      "metadata": {
        "id": "hOCuO-4vEUtc"
      },
      "outputs": [],
      "source": [
        "# Maybe that's not that bad?  Let's try a simpler case.\n",
        "def python_dot_product(xs, ys):\n",
        "    return sum(x * y for x, y in zip(xs, ys))"
      ]
    },
    {
      "cell_type": "code",
      "execution_count": null,
      "metadata": {
        "id": "axCk6sXTEbGr"
      },
      "outputs": [],
      "source": [
        "%%fortran\n",
        "subroutine fortran_dot_product(xs, ys, result)\n",
        "    double precision, intent(in) :: xs(:)\n",
        "    double precision, intent(in) :: ys(:)\n",
        "    double precision, intent(out) :: result\n",
        "\n",
        "    result = sum(xs * ys)\n",
        "end"
      ]
    },
    {
      "cell_type": "code",
      "execution_count": null,
      "metadata": {
        "id": "IaxYdG2tEdue"
      },
      "outputs": [],
      "source": [
        "list_data = [float(i) for i in range(100000)]\n",
        "array_data = np.array(list_data)"
      ]
    },
    {
      "cell_type": "code",
      "execution_count": null,
      "metadata": {
        "id": "5T01BRgDEk7b"
      },
      "outputs": [],
      "source": [
        "%%time\n",
        "python_dot_product(list_data, list_data)"
      ]
    },
    {
      "cell_type": "code",
      "execution_count": null,
      "metadata": {
        "id": "dYtxY9_vEmwz"
      },
      "outputs": [],
      "source": [
        "%%time\n",
        "fortran_dot_product(array_data, array_data)"
      ]
    },
    {
      "cell_type": "markdown",
      "metadata": {
        "id": "qW-_Q7yuiXcO"
      },
      "source": [
        "<center><img src=\"https://raw.githubusercontent.com/ssanderson/pydata-toolbox/master/notebooks/images/sloth.gif\" alt=\"Drawing\" style=\"width: 1080px;\"/></center>\n"
      ]
    },
    {
      "cell_type": "markdown",
      "metadata": {
        "id": "y37MLCQ4PQd3"
      },
      "source": [
        "**My own example 10 - Deifining A (2x2)  and B (2x2)**"
      ]
    },
    {
      "cell_type": "code",
      "execution_count": null,
      "metadata": {
        "id": "FZ29Ya29EpSb"
      },
      "outputs": [],
      "source": [
        "A = [[1, 2],\n",
        "     [3, 4]]\n",
        "\n",
        "B = [[5, 6],\n",
        "     [7, 8]]"
      ]
    },
    {
      "cell_type": "markdown",
      "metadata": {
        "id": "nuV59KXQPipC"
      },
      "source": [
        "**My own example 11 - Defining Fortran subroutine matmul(A,B) for 2x2 matrices**"
      ]
    },
    {
      "cell_type": "code",
      "execution_count": null,
      "metadata": {
        "id": "QPKx5Z0jEunL"
      },
      "outputs": [],
      "source": [
        "%%fortran\n",
        "subroutine fortran_matrix(A,B)\n",
        "    real, dimension(2,2) :: A,B,result\n",
        "    result = matmul(A, B)\n",
        "end subroutine fortran_matrix"
      ]
    },
    {
      "cell_type": "markdown",
      "metadata": {
        "id": "zU1RmmstRPd4"
      },
      "source": [
        "**My own example 12 -Run Fortran subroutine matmul(A,B) with a and b 2x2 matrices**"
      ]
    },
    {
      "cell_type": "code",
      "execution_count": null,
      "metadata": {
        "id": "g-gG6Gu6E31b"
      },
      "outputs": [],
      "source": [
        "%%time\n",
        "fortran_matrix(A, B)"
      ]
    },
    {
      "cell_type": "markdown",
      "metadata": {
        "id": "_ra5WDYERX1e"
      },
      "source": [
        "**My own example 13 - Defining Fortran subroutine matmul(A,B) for 600x100 and 100x600 matrices**"
      ]
    },
    {
      "cell_type": "code",
      "execution_count": null,
      "metadata": {
        "id": "yvBDJ3YPE50a"
      },
      "outputs": [],
      "source": [
        "%%fortran\n",
        "subroutine fortran_matrix(A,B)\n",
        "    real, dimension(600,100) :: A\n",
        "    real, dimension(100,600) :: B\n",
        "    real, dimension(600,600) :: out\n",
        "    out = matmul(A, B)\n",
        "end subroutine fortran_matrix"
      ]
    },
    {
      "cell_type": "markdown",
      "metadata": {
        "id": "cf5NwQZQRjx-"
      },
      "source": [
        "**My own example 14 -Run Fortran subroutine matmul(A,B) with 600x100 and 100x600 matrices**"
      ]
    },
    {
      "cell_type": "code",
      "execution_count": null,
      "metadata": {
        "id": "E_1_XBfjE9-S"
      },
      "outputs": [],
      "source": [
        "%%time\n",
        "fortran_matrix(matrixa1, matrixb2)"
      ]
    },
    {
      "cell_type": "markdown",
      "metadata": {
        "id": "5yjoH7W_R0E3"
      },
      "source": [
        "**My own example 15 - Running 10 times the  Fortran subroutine matmul(A,B) with 600x100 and 100x600 matrices and adding Fortran magic average execution time to the data frame**"
      ]
    },
    {
      "cell_type": "code",
      "execution_count": null,
      "metadata": {
        "id": "0Hdtf_-aFQgD"
      },
      "outputs": [],
      "source": [
        "import time\n",
        "avg = 0\n",
        "for i in range(10):\n",
        "  start = time.process_time()\n",
        "  fortran_matrix(matrixa1,matrixb2)\n",
        "  end = time.process_time()\n",
        "  avg += end - start\n",
        "avg = avg/10\n",
        "print(\"The average execution time is: \", avg)\n",
        "\n",
        "DF_com_time_ex.loc[len(DF_com_time_ex.index)] = ['FortranMagic', avg]\n",
        "display(DF_com_time_ex)"
      ]
    },
    {
      "cell_type": "markdown",
      "metadata": {
        "id": "w5hURiGOShpG"
      },
      "source": [
        "**My own example 16 - Creating a  Fortran program that mutiplies 10 times A(600x100) and  B (100x600) matrices**"
      ]
    },
    {
      "cell_type": "code",
      "execution_count": null,
      "metadata": {
        "id": "cNJH5FtbFyfz"
      },
      "outputs": [],
      "source": [
        "%%writefile test.f\n",
        "        program TEST\n",
        "\n",
        "          integer ::  g = 600\n",
        "          integer ::  m = 100\n",
        "          integer ::  p = 600\n",
        "\n",
        "          real    :: T,inicio,final\n",
        "\n",
        "          integer ::  r, i, j, k\n",
        "\n",
        "          double precision, dimension (600,100) :: A\n",
        "          double precision, dimension (100,600) :: B\n",
        "          double precision, dimension (600,600) :: C\n",
        "\n",
        "          do i = 1, g\n",
        "              do j = 1, g\n",
        "                A(i, j) = i+j * 0.1\n",
        "              end do\n",
        "          end do\n",
        "\n",
        "          do i = 1, m\n",
        "              do j = 1, p\n",
        "                B(i, j) = i+j * 0.5\n",
        "              end do\n",
        "          end do\n",
        "\n",
        "          T = 0.0\n",
        "\n",
        "          do r = 1, 10\n",
        "\n",
        "            call cpu_time(inicio)\n",
        "            C = matmul(A, B)\n",
        "            call cpu_time(final)\n",
        "            T = T + (final-inicio)\n",
        "\n",
        "          end do\n",
        "\n",
        "          T = T/10.0\n",
        "\n",
        "        PRINT *,T\n",
        "        stop\n",
        "        end"
      ]
    },
    {
      "cell_type": "markdown",
      "metadata": {
        "id": "LJOrD7hyYmTJ"
      },
      "source": [
        "**My own example 17 - Running the Fortran program that mutiplies 10 times A(600x100) and  B (100x600) matrices**"
      ]
    },
    {
      "cell_type": "code",
      "execution_count": null,
      "metadata": {
        "id": "lEgfECIUGLJr"
      },
      "outputs": [],
      "source": [
        "!gfortran test.f  -o test\n",
        "!./test"
      ]
    },
    {
      "cell_type": "markdown",
      "metadata": {
        "id": "21wSmo50YfIo"
      },
      "source": [
        "**My own example 18 - Adding Fortran average execution time to the data frame**"
      ]
    },
    {
      "cell_type": "code",
      "execution_count": null,
      "metadata": {
        "id": "N2c-ohiwGOUE"
      },
      "outputs": [],
      "source": [
        "DF_com_time_ex.loc[len(DF_com_time_ex.index)] = ['Fortran', 0.000531439949]\n",
        "display(DF_com_time_ex)"
      ]
    },
    {
      "cell_type": "markdown",
      "metadata": {
        "id": "8G8ZZ2hfZXYA"
      },
      "source": [
        "**My own example 19 - Creating a c program that mutiplies 10 times A(600x100) and  B (100x600) matrices**"
      ]
    },
    {
      "cell_type": "code",
      "execution_count": null,
      "metadata": {
        "id": "9ULTmoIlGUdc"
      },
      "outputs": [],
      "source": [
        "%%writefile temp.c\n",
        "\n",
        "#include <stdio.h>\n",
        "#include <stdlib.h>\n",
        "#include <time.h>\n",
        "\n",
        "int main() {\n",
        "int count=10;\n",
        "FILE *archivo;\n",
        "  int A[600][100];\n",
        "  // Rellenar la matriz\n",
        "  for(int i = 0; i < 600; i++) {\n",
        "    for(int j = 0; j < 100; j++) {\n",
        "      A[i][j] = count+i+j;\n",
        "    }\n",
        "  }\n",
        "  int B[100][600];\n",
        "  // Rellenar la matriz\n",
        "  for(int i = 0; i <100; i++) {\n",
        "    for(int j = 0; j < 600; j++) {\n",
        "      B[i][j] = count+i+j;\n",
        "    }\n",
        "  }\n",
        "  int Resultado[600][600];\n",
        "    clock_t inicio,stop;\n",
        "    double total=0.0;\n",
        "\n",
        "    for(int repeticion=0; repeticion<10; repeticion++){\n",
        "        inicio= clock();\n",
        "        for(int i = 0; i < 600; i++) {\n",
        "            //printf(\"%d \", i);\n",
        "            for(int j = 0; j < 600; j++) {\n",
        "                //printf(\"%d \", j);\n",
        "                Resultado[i][j]=0;\n",
        "                for(int k = 0; k < 100; k++) {\n",
        "                    Resultado[i][j] += A[i][k] * B[k][j];\n",
        "                    //printf(\"%d \", k);\n",
        "                    }\n",
        "                }\n",
        "            }\n",
        "            stop=clock();\n",
        "        total+= (double) (stop - inicio)/CLOCKS_PER_SEC;\n",
        "        }\n",
        "        total= total/10;\n",
        "        printf(\"%f \", total);\n",
        "    archivo = fopen(\"resultado.txt\", \"w+\");\n",
        "    fprintf(archivo,\"%f\",total);\n",
        "    fclose(archivo);\n",
        "\n",
        "}"
      ]
    },
    {
      "cell_type": "markdown",
      "metadata": {
        "id": "i-oPlTweZndB"
      },
      "source": [
        "**My own example 20 - Running the c program that mutiplies 10 times A(600x100) and  B (100x600) matrices**"
      ]
    },
    {
      "cell_type": "code",
      "execution_count": null,
      "metadata": {
        "id": "0R0PPOAoGZf6"
      },
      "outputs": [],
      "source": [
        "!gcc temp.c -o temp\n",
        "!./temp"
      ]
    },
    {
      "cell_type": "markdown",
      "metadata": {
        "id": "U9Wf-9DPZ3R4"
      },
      "source": [
        "**My own example 21 - Adding c average execution time to the data frame**"
      ]
    },
    {
      "cell_type": "code",
      "execution_count": null,
      "metadata": {
        "id": "HUzF9EeJGpOj"
      },
      "outputs": [],
      "source": [
        "C = open(\"resultado.txt\",'r')\n",
        "avr_archivo = float(C.readline())\n",
        "DF_com_time_ex.loc[len(DF_com_time_ex.index)] = ['C', avr_archivo]\n",
        "display(DF_com_time_ex)"
      ]
    },
    {
      "cell_type": "markdown",
      "metadata": {
        "id": "XkgHEUB2aFI1"
      },
      "source": [
        "**My own example 22 - Creating a C++ program that mutiplies 10 times A(600x100) and  B (100x600) matrices**"
      ]
    },
    {
      "cell_type": "code",
      "execution_count": null,
      "metadata": {
        "id": "q4dMw4ypJx1q"
      },
      "outputs": [],
      "source": [
        "%%writefile temp++.cc\n",
        "#include <iostream>\n",
        "#include <ctime>\n",
        "using namespace std;\n",
        "int main() {\n",
        "int count=10;\n",
        "FILE *archivo;\n",
        "  int A[600][100];\n",
        "  // Rellenar la matriz\n",
        "  for(int i = 0; i < 600; i++) {\n",
        "    for(int j = 0; j < 100; j++) {\n",
        "      A[i][j] = count+i+j;\n",
        "    }\n",
        "  }\n",
        "  int B[100][600];\n",
        "  // Rellenar la matriz\n",
        "  for(int i = 0; i <100; i++) {\n",
        "    for(int j = 0; j < 600; j++) {\n",
        "      B[i][j] = count+i+j;\n",
        "    }\n",
        "  }\n",
        "  int Resultado[600][600];\n",
        "    unsigned inicio,stop;\n",
        "    double total=0.0;\n",
        "    int repeticion =0;\n",
        "    for(int repeticion=0; repeticion<10; repeticion++){\n",
        "        inicio= clock();\n",
        "        for(int i = 0; i < 600; i++) {\n",
        "            //printf(\"%d \", i);\n",
        "            for(int j = 0; j < 600; j++) {\n",
        "                //printf(\"%d \", j);\n",
        "                Resultado[i][j]=0;\n",
        "                for(int k = 0; k < 100; k++) {\n",
        "                    Resultado[i][j] += A[i][k] * B[k][j];\n",
        "                    //printf(\"%d \", k);\n",
        "                    }\n",
        "                }\n",
        "            }\n",
        "            stop=clock();\n",
        "        total+= double (stop - inicio)/CLOCKS_PER_SEC;\n",
        "        }\n",
        "        total= total/10;\n",
        "        cout << total << endl;\n",
        "    archivo = fopen(\"cppresultado.txt\", \"w+\");\n",
        "    fprintf(archivo,\"%f\",total);\n",
        "    fclose(archivo);\n",
        "  return 0 ;\n",
        "}"
      ]
    },
    {
      "cell_type": "markdown",
      "metadata": {
        "id": "WFpb2F81aKJA"
      },
      "source": [
        "**My own example 23 - Running the C++ program that mutiplies 10 times A(600x100) and  B (100x600) matrices**"
      ]
    },
    {
      "cell_type": "code",
      "execution_count": null,
      "metadata": {
        "id": "X-RZoMvWLm-p"
      },
      "outputs": [],
      "source": [
        "!g++ temp++.cc -o temp++\n",
        "!./temp++"
      ]
    },
    {
      "cell_type": "markdown",
      "metadata": {
        "id": "GSEE2zDjaPmg"
      },
      "source": [
        "**My own example 24 - Adding C++ average execution time to the data frame**"
      ]
    },
    {
      "cell_type": "code",
      "execution_count": null,
      "metadata": {
        "id": "vJb17_RlLt5k"
      },
      "outputs": [],
      "source": [
        "C_plus_plus = open(\"cppresultado.txt\",'r')\n",
        "avr_archivo = float(C_plus_plus.readline())\n",
        "DF_com_time_ex.loc[len(DF_com_time_ex.index)] = ['C++', avr_archivo]\n",
        "display(DF_com_time_ex)"
      ]
    },
    {
      "cell_type": "markdown",
      "metadata": {
        "id": "OjOecKv-d-ML"
      },
      "source": [
        "**My own example 25 - Creating a Java program that mutiplies 10 times A(600x100) and  B (100x600) matrices**"
      ]
    },
    {
      "cell_type": "code",
      "execution_count": null,
      "metadata": {
        "id": "zHrqAsOsL3ox"
      },
      "outputs": [],
      "source": [
        "%%writefile Main.java\n",
        "import java.util.Arrays;\n",
        "import java.util.Random;\n",
        "class Main {\n",
        "\n",
        "  public static void main(String[] args) {\n",
        "    try{\n",
        "      int[][] A=randomMatrix(600,100);\n",
        "      int[][] B=randomMatrix(100,600);\n",
        "      long timei = System.nanoTime();\n",
        "      for(int i=0;i<10;i++){\n",
        "        mulmat(A,B);\n",
        "      }\n",
        "      long timef = System.nanoTime();\n",
        "      System.out.println(\"Average time in nanoSec: \"+((timef - timei)/10));\n",
        "    }catch(Exception e){\n",
        "      System.out.println(e);\n",
        "    }\n",
        "\n",
        "  }\n",
        "  public static int[][] randomMatrix(int x,int y){\n",
        "    Random r=new Random();\n",
        "    int[][] a=new int[x][y];\n",
        "    for(int i=0;i<x;i++)\n",
        "    {\n",
        "        for(int j=0;j<y;j++)\n",
        "        {\n",
        "          a[i][j]=r.nextInt(20);\n",
        "        }\n",
        "    }\n",
        "    return a;\n",
        "  }\n",
        "  public static void imp(int[][] matriz){\n",
        "    for (int x=0; x < matriz.length; x++) {\n",
        "  System.out.print(\"|\");\n",
        "  for (int y=0; y < matriz[x].length; y++) {\n",
        "    System.out.print (matriz[x][y]);\n",
        "    if (y!=matriz[x].length-1) System.out.print(\"\\t\");\n",
        "  }\n",
        "  System.out.println(\"|\");\n",
        "}\n",
        "System.out.println(\"\");\n",
        "  }\n",
        "  public static int[][] mulmat(int[][]A,int[][]B) throws Exception{\n",
        "    int [] [] matrix = new int [A.length] [B[0].length];\n",
        "    if(A[0].length==B.length){\n",
        "      for(int i=0;i<A.length;i++){\n",
        "        for(int j=0;j<B[0].length;j++){\n",
        "          for(int k=0;k<B.length;k++){\n",
        "            matrix[i][j]+=A[i][k]*B[k][j];\n",
        "          }\n",
        "        }\n",
        "      }\n",
        "    }else{\n",
        "      throw new Exception(\"Number of columns of first matrix don't match with number of rows of second matrix\");\n",
        "    }\n",
        "    return matrix;\n",
        "  }\n",
        "}"
      ]
    },
    {
      "cell_type": "markdown",
      "metadata": {
        "id": "J75aKNvZeFHx"
      },
      "source": [
        "**My own example 26 - Running the Java program that mutiplies 10 times A(600x100) and  B (100x600) matrices**"
      ]
    },
    {
      "cell_type": "code",
      "execution_count": null,
      "metadata": {
        "id": "u4XDKbxCL5CR"
      },
      "outputs": [],
      "source": [
        "!javac Main.java\n",
        "!java Main"
      ]
    },
    {
      "cell_type": "markdown",
      "metadata": {
        "id": "C75pEHRieNfo"
      },
      "source": [
        "**My own example 27 - Adding Java average execution time to the data frame**"
      ]
    },
    {
      "cell_type": "code",
      "execution_count": null,
      "metadata": {
        "id": "BPYRGU9AM6gh"
      },
      "outputs": [],
      "source": [
        "import subprocess\n",
        "\n",
        "subprocess.run([\"javac\", \"Matmul.java\"])\n",
        "\n",
        "result = subprocess.run([\"java\", \"Matmul\"], capture_output=True, text=True)\n",
        "\n",
        "average_time_java = result.stdout.strip()\n",
        "\n",
        "# Print the average time\n",
        "print(\"Average Time in Java:\", average_time_java)"
      ]
    },
    {
      "cell_type": "markdown",
      "metadata": {
        "id": "nHtevrHEeUiI"
      },
      "source": [
        "**My own example 28 - Creating a Javascript program that mutiplies 10 times A(600x100) and  B (100x600) matrices**"
      ]
    },
    {
      "cell_type": "code",
      "execution_count": null,
      "metadata": {
        "id": "prXMMKKHNr1S"
      },
      "outputs": [],
      "source": [
        "%%javascript\n",
        "// Inicializar las matrices A y B\n",
        "let A = [];\n",
        "let B = [];\n",
        "for (let i = 0; i < 100; i++) {\n",
        "  A[i] = [];\n",
        "  for (let j = 0; j < 600; j++) {\n",
        "    A[i][j] = Math.random(); // llenar con valores aleatorios\n",
        "  }\n",
        "}\n",
        "for (let i = 0; i < 600; i++) {\n",
        "  B[i] = [];\n",
        "  for (let j = 0; j < 100; j++) {\n",
        "    B[i][j] = Math.random(); // llenar con valores aleatorios\n",
        "  }\n",
        "}\n",
        "\n",
        "// Realizar la multiplicación de matrices 10 veces y medir el tiempo de ejecución\n",
        "let tiempos = [];\n",
        "for (let k = 0; k < 10; k++) {\n",
        "  let inicio = performance.now();\n",
        "  let C = [];\n",
        "  for (let i = 0; i < 100; i++) {\n",
        "    C[i] = [];\n",
        "    for (let j = 0; j < 100; j++) {\n",
        "      let sum = 0;\n",
        "      for (let k = 0; k < 600; k++) {\n",
        "        sum += A[i][k] * B[k][j];\n",
        "      }\n",
        "      C[i][j] = sum;\n",
        "    }\n",
        "  }\n",
        "  let fin = performance.now();\n",
        "  tiempos.push(fin - inicio);\n",
        "}\n",
        "\n",
        "// Calcular el promedio del tiempo de ejecución\n",
        "let promedioTiempo = tiempos.reduce((a, b) => a + b) / tiempos.length;\n",
        "\n",
        "// Imprimir el promedio del tiempo de ejecución en la consola\n",
        "console.log(promedioTiempo);"
      ]
    },
    {
      "cell_type": "markdown",
      "metadata": {
        "id": "87XpOlCteUZJ"
      },
      "source": [
        "**My own example 29 - Running the Javascript program that mutiplies 10 times A(600x100) and  B (100x600) matrices**"
      ]
    },
    {
      "cell_type": "code",
      "execution_count": null,
      "metadata": {
        "id": "r8aEzuuPNxTi"
      },
      "outputs": [],
      "source": [
        "%%javascript\n",
        "// Inicializar las matrices A y B\n",
        "let A = [];\n",
        "let B = [];\n",
        "for (let i = 0; i < 100; i++) {\n",
        "  A[i] = [];\n",
        "  for (let j = 0; j < 600; j++) {\n",
        "    A[i][j] = Math.random(); // llenar con valores aleatorios\n",
        "  }\n",
        "}\n",
        "for (let i = 0; i < 600; i++) {\n",
        "  B[i] = [];\n",
        "  for (let j = 0; j < 100; j++) {\n",
        "    B[i][j] = Math.random(); // llenar con valores aleatorios\n",
        "  }\n",
        "}\n",
        "\n",
        "// Realizar la multiplicación de matrices 10 veces y medir el tiempo de ejecución\n",
        "let tiempos = [];\n",
        "for (let k = 0; k < 10; k++) {\n",
        "  let inicio = performance.now();\n",
        "  let C = [];\n",
        "  for (let i = 0; i < 100; i++) {\n",
        "    C[i] = [];\n",
        "    for (let j = 0; j < 100; j++) {\n",
        "      let sum = 0;\n",
        "      for (let k = 0; k < 600; k++) {\n",
        "        sum += A[i][k] * B[k][j];\n",
        "      }\n",
        "      C[i][j] = sum;\n",
        "    }\n",
        "  }\n",
        "  let fin = performance.now();\n",
        "  tiempos.push(fin - inicio);\n",
        "}\n",
        "\n",
        "// Calcular el promedio del tiempo de ejecución\n",
        "let promedioTiempo = tiempos.reduce((a, b) => a + b) / tiempos.length;\n",
        "\n",
        "// Imprimir el promedio del tiempo de ejecución en la consola\n",
        "console.log(promedioTiempo);"
      ]
    },
    {
      "cell_type": "markdown",
      "metadata": {
        "id": "LvxaACodc9-K"
      },
      "source": [
        "**My own example 30 - Adding Javascript average execution time to the data frame**"
      ]
    },
    {
      "cell_type": "code",
      "execution_count": null,
      "metadata": {
        "id": "_iH6T8otNzuR"
      },
      "outputs": [],
      "source": [
        "avg=0.0105\n",
        "\n",
        "DF_com_time_ex.loc[len(DF_com_time_ex.index)] = ['Javascript', avg]\n",
        "display(DF_com_time_ex)"
      ]
    },
    {
      "cell_type": "markdown",
      "metadata": {
        "id": "XPP0Ir1dezN6"
      },
      "source": [
        "**My own example 31 - Finding the minimun average esecuiton time in the data frame**"
      ]
    },
    {
      "cell_type": "code",
      "execution_count": null,
      "metadata": {
        "id": "jMKwxkveN1_R"
      },
      "outputs": [],
      "source": [
        "sorted_df = DF_com_time_ex.sort_values(by='Average Secs')\n",
        "min_time = sorted_df.iloc[0]['Average Secs']\n",
        "\n",
        "print(\"El tiempo mínimo promedio de ejecución es:\", min_time)"
      ]
    },
    {
      "cell_type": "markdown",
      "metadata": {
        "id": "_IjH2K6ldJAQ"
      },
      "source": [
        "**My own example 32 - Adding the Speed factor columne to the data frame**"
      ]
    },
    {
      "cell_type": "code",
      "execution_count": null,
      "metadata": {
        "id": "o7XWUNsVN5AR"
      },
      "outputs": [],
      "source": [
        "DF_com_time_ex['Average Secs'] = DF_com_time_ex['Average Secs'].apply(lambda x: float(x))\n",
        "\n",
        "minTime=DF_com_time_ex['Average Secs'].min()\n",
        "\n",
        "DF_com_time_ex['Speed Factor']=(DF_com_time_ex['Average Secs']/minTime)\n",
        "\n",
        "DF_com_time_ex"
      ]
    },
    {
      "cell_type": "markdown",
      "metadata": {
        "id": "CjiN21fvdRch"
      },
      "source": [
        "**My own example 33 - Sorting the the data frame by average execution time**"
      ]
    },
    {
      "cell_type": "code",
      "execution_count": null,
      "metadata": {
        "id": "esqZN7cTN67a"
      },
      "outputs": [],
      "source": [
        "sorted_df = DF_com_time_ex.sort_values(by='Average Secs')\n",
        "sorted_df"
      ]
    },
    {
      "cell_type": "markdown",
      "metadata": {
        "id": "5RlZ-kCGiXcO"
      },
      "source": [
        "## Why is the Python Version so Much Slower?"
      ]
    },
    {
      "cell_type": "code",
      "execution_count": null,
      "metadata": {
        "id": "rWOUuY4QiXcP"
      },
      "outputs": [],
      "source": [
        "# Dynamic typing.\n",
        "def mul_elemwise(xs, ys):\n",
        "    return [x * y for x, y in zip(xs, ys)]\n",
        "\n",
        "mul_elemwise([1, 2, 3, 4], [1, 2 + 0j, 3.0, 'four'])\n",
        "#[type(x) for x in _]"
      ]
    },
    {
      "cell_type": "code",
      "execution_count": null,
      "metadata": {
        "id": "cW0Jexk6iXcP"
      },
      "outputs": [],
      "source": [
        "# Interpretation overhead.\n",
        "source_code = 'a + b * c'\n",
        "bytecode = compile(source_code, '', 'eval')\n",
        "import dis; dis.dis(bytecode)"
      ]
    },
    {
      "cell_type": "markdown",
      "metadata": {
        "id": "BdvCAketiXcP"
      },
      "source": [
        "## Why is the Python Version so Slow?\n",
        "- Dynamic typing means that every single operation requires dispatching on the input type.\n",
        "- Having an interpreter means that every instruction is fetched and dispatched at runtime.\n",
        "- Other overheads:\n",
        "  - Arbitrary-size integers.\n",
        "  - Reference-counted garbage collection."
      ]
    },
    {
      "cell_type": "markdown",
      "metadata": {
        "id": "zvFKYtobiXcP"
      },
      "source": [
        "> This is the paradox that we have to work with when we're doing scientific or numerically-intensive Python. What makes Python fast for development -- this high-level, interpreted, and dynamically-typed aspect of the language -- is exactly what makes it slow for code execution.\n",
        "\n",
        "- Jake VanderPlas, [*Losing Your Loops: Fast Numerical Computing with NumPy*](https://www.youtube.com/watch?v=EEUXKG97YRw)"
      ]
    },
    {
      "cell_type": "markdown",
      "metadata": {
        "id": "UqE431pkiXcP"
      },
      "source": [
        "# What Do We Do?"
      ]
    },
    {
      "cell_type": "markdown",
      "metadata": {
        "id": "4uh7h3HyiXcP"
      },
      "source": [
        "<center><img src=\"https://raw.githubusercontent.com/ssanderson/pydata-toolbox/master/notebooks/images/runaway.gif\" alt=\"Drawing\" style=\"width: 50%;\"/></center>"
      ]
    },
    {
      "cell_type": "markdown",
      "metadata": {
        "id": "-9z62YT1iXcP"
      },
      "source": [
        "<center><img src=\"https://raw.githubusercontent.com/ssanderson/pydata-toolbox/master/notebooks/images/thisisfine.gif\" alt=\"Drawing\" style=\"width: 1080px;\"/></center>"
      ]
    },
    {
      "cell_type": "markdown",
      "metadata": {
        "id": "0Moc6UrkiXcQ"
      },
      "source": [
        "- Python is slow for numerical computation because it performs dynamic dispatch on every operation we perform..."
      ]
    },
    {
      "cell_type": "markdown",
      "metadata": {
        "collapsed": true,
        "id": "U4gN8tp2iXcQ"
      },
      "source": [
        "- ...but often, we just want to do the same thing over and over in a loop!"
      ]
    },
    {
      "cell_type": "markdown",
      "metadata": {
        "id": "Yu0ySyEhiXcQ"
      },
      "source": [
        "- If we don't need Python's dynamicism, we don't want to pay (much) for it."
      ]
    },
    {
      "cell_type": "markdown",
      "metadata": {
        "id": "KUwG9isRiXcQ"
      },
      "source": [
        "- **Idea:** Dispatch **once per operation** instead of **once per element**."
      ]
    },
    {
      "cell_type": "code",
      "execution_count": null,
      "metadata": {
        "id": "62itImahiXcQ"
      },
      "outputs": [],
      "source": [
        "import numpy as np\n",
        "\n",
        "data = np.array([1, 2, 3, 4])\n",
        "data"
      ]
    },
    {
      "cell_type": "code",
      "execution_count": null,
      "metadata": {
        "id": "q6qikr_tiXcQ"
      },
      "outputs": [],
      "source": [
        "data + data"
      ]
    },
    {
      "cell_type": "code",
      "execution_count": null,
      "metadata": {
        "id": "26QlWUw8iXcQ"
      },
      "outputs": [],
      "source": [
        "%%time\n",
        "# Naive dot product\n",
        "(array_data * array_data).sum()"
      ]
    },
    {
      "cell_type": "code",
      "execution_count": null,
      "metadata": {
        "id": "xoigDrpEiXcQ"
      },
      "outputs": [],
      "source": [
        "%%time\n",
        "# Built-in dot product.\n",
        "array_data.dot(array_data)"
      ]
    },
    {
      "cell_type": "code",
      "execution_count": null,
      "metadata": {
        "id": "tcewetQ0iXcR"
      },
      "outputs": [],
      "source": [
        "%%time\n",
        "fortran_dot_product(array_data, array_data)"
      ]
    },
    {
      "cell_type": "code",
      "execution_count": null,
      "metadata": {
        "id": "Whkcgo1xiXcR"
      },
      "outputs": [],
      "source": [
        "# Numpy won't allow us to write a string into an int array.\n",
        "data[0] = \"foo\""
      ]
    },
    {
      "cell_type": "code",
      "execution_count": null,
      "metadata": {
        "collapsed": true,
        "id": "OM_YUwF0iXcR"
      },
      "outputs": [],
      "source": [
        "# We also can't grow an array once it's created.\n",
        "data.append(3)"
      ]
    },
    {
      "cell_type": "code",
      "execution_count": null,
      "metadata": {
        "collapsed": true,
        "id": "_ByTInO5iXcR"
      },
      "outputs": [],
      "source": [
        "# We **can** reshape an array though.\n",
        "two_by_two = data.reshape(2, 2)\n",
        "two_by_two"
      ]
    },
    {
      "cell_type": "markdown",
      "metadata": {
        "id": "rqUM9z90iXcR"
      },
      "source": [
        "Numpy arrays are:\n",
        "\n",
        "- Fixed-type"
      ]
    },
    {
      "cell_type": "markdown",
      "metadata": {
        "id": "xI5M1gzviXcR"
      },
      "source": [
        "- Size-immutable"
      ]
    },
    {
      "cell_type": "markdown",
      "metadata": {
        "id": "Xb7Dkl2tiXcS"
      },
      "source": [
        "- Multi-dimensional"
      ]
    },
    {
      "cell_type": "markdown",
      "metadata": {
        "id": "r0oMRqQXiXcS"
      },
      "source": [
        "- Fast\\*"
      ]
    },
    {
      "cell_type": "markdown",
      "metadata": {
        "id": "kz1MurDBiXcS"
      },
      "source": [
        "\\* If you use them correctly."
      ]
    },
    {
      "cell_type": "markdown",
      "metadata": {
        "id": "Qivn_IZOiXcS"
      },
      "source": [
        "# What's in an Array?"
      ]
    },
    {
      "cell_type": "code",
      "execution_count": null,
      "metadata": {
        "id": "vAuc9ZoYiXcS"
      },
      "outputs": [],
      "source": [
        "arr = np.array([1, 2, 3, 4, 5, 6], dtype='int16').reshape(2, 3)\n",
        "print(\"Array:\\n\", arr, sep='')\n",
        "print(\"===========\")\n",
        "print(\"DType:\", arr.dtype)\n",
        "print(\"Shape:\", arr.shape)\n",
        "print(\"Strides:\", arr.strides)\n",
        "print(\"Data:\", arr.data.tobytes())"
      ]
    },
    {
      "cell_type": "markdown",
      "metadata": {
        "id": "K81LXWsCiXcS"
      },
      "source": [
        "# Core Operations\n",
        "\n",
        "- Vectorized **ufuncs** for elementwise operations.\n",
        "- Fancy indexing and masking for selection and filtering.\n",
        "- Aggregations across axes.\n",
        "- Broadcasting"
      ]
    },
    {
      "cell_type": "markdown",
      "metadata": {
        "id": "kwVm_T0UiXcS"
      },
      "source": [
        "# UFuncs\n",
        "\n",
        "UFuncs (universal functions) are functions that operate elementwise on one or more arrays."
      ]
    },
    {
      "cell_type": "code",
      "execution_count": null,
      "metadata": {
        "id": "bltDIE9jiXcS"
      },
      "outputs": [],
      "source": [
        "data = np.arange(15).reshape(3, 5)\n",
        "data"
      ]
    },
    {
      "cell_type": "code",
      "execution_count": null,
      "metadata": {
        "id": "STwE0VCpiXcT"
      },
      "outputs": [],
      "source": [
        "# Binary operators.\n",
        "data * data"
      ]
    },
    {
      "cell_type": "code",
      "execution_count": null,
      "metadata": {
        "id": "N__jqMifiXcT"
      },
      "outputs": [],
      "source": [
        "# Unary functions.\n",
        "np.sqrt(data)"
      ]
    },
    {
      "cell_type": "code",
      "execution_count": null,
      "metadata": {
        "id": "j-2fPm3LiXcT"
      },
      "outputs": [],
      "source": [
        "# Comparison operations\n",
        "(data % 3) == 0"
      ]
    },
    {
      "cell_type": "code",
      "execution_count": null,
      "metadata": {
        "id": "iDUXVIuhiXcT"
      },
      "outputs": [],
      "source": [
        "# Boolean combinators.\n",
        "((data % 2) == 0) & ((data % 3) == 0)"
      ]
    },
    {
      "cell_type": "code",
      "execution_count": null,
      "metadata": {
        "id": "f2FWSuiJiXcT"
      },
      "outputs": [],
      "source": [
        "# as of python 3.5, @ is matrix-multiply\n",
        "data @ data.T"
      ]
    },
    {
      "cell_type": "markdown",
      "metadata": {
        "id": "9EsiKbSCiXcT"
      },
      "source": [
        "# UFuncs Review\n",
        "\n",
        "- UFuncs provide efficient elementwise operations applied across one or more arrays.\n",
        "- Arithmetic Operators (`+`, `*`, `/`)\n",
        "- Comparisons (`==`, `>`, `!=`)\n",
        "- Boolean Operators (`&`, `|`, `^`)\n",
        "- Trigonometric Functions (`sin`, `cos`)\n",
        "- Transcendental Functions (`exp`, `log`)"
      ]
    },
    {
      "cell_type": "markdown",
      "metadata": {
        "id": "GGLCgF20iXcU"
      },
      "source": [
        "# Selections"
      ]
    },
    {
      "cell_type": "markdown",
      "metadata": {
        "id": "3SAH9am8iXcU"
      },
      "source": [
        "We often want to perform an operation on just a subset of our data."
      ]
    },
    {
      "cell_type": "code",
      "execution_count": null,
      "metadata": {
        "id": "AWmtLHYwiXcU"
      },
      "outputs": [],
      "source": [
        "sines = np.sin(np.linspace(0, 3.14, 10))\n",
        "cosines = np.cos(np.linspace(0, 3.14, 10))\n",
        "sines"
      ]
    },
    {
      "cell_type": "code",
      "execution_count": null,
      "metadata": {
        "id": "u8LHY0j9iXcU"
      },
      "outputs": [],
      "source": [
        "# Slicing works with the same semantics as Python lists.\n",
        "sines[0]"
      ]
    },
    {
      "cell_type": "code",
      "execution_count": null,
      "metadata": {
        "id": "hh6dTObciXcU"
      },
      "outputs": [],
      "source": [
        "sines[:3]  # First three elements"
      ]
    },
    {
      "cell_type": "code",
      "execution_count": null,
      "metadata": {
        "id": "rqB_uVABiXcU"
      },
      "outputs": [],
      "source": [
        "sines[5:]  # Elements from 5 on."
      ]
    },
    {
      "cell_type": "code",
      "execution_count": null,
      "metadata": {
        "id": "j2KDBhZaiXcU"
      },
      "outputs": [],
      "source": [
        "sines[::2]  # Every other element."
      ]
    },
    {
      "cell_type": "code",
      "execution_count": null,
      "metadata": {
        "id": "lR7JjjhjiXcV"
      },
      "outputs": [],
      "source": [
        "# More interesting: we can index with boolean arrays to filter by a predicate.\n",
        "print(\"sines:\\n\", sines)\n",
        "print(\"sines > 0.5:\\n\", sines > 0.5)\n",
        "print(\"sines[sines > 0.5]:\\n\", sines[sines > 0.5])"
      ]
    },
    {
      "cell_type": "code",
      "execution_count": null,
      "metadata": {
        "id": "gORuDL3RiXcV"
      },
      "outputs": [],
      "source": [
        "# We index with lists/arrays of integers to select values at those indices.\n",
        "print(sines)\n",
        "sines[[0, 4, 7]]"
      ]
    },
    {
      "cell_type": "code",
      "execution_count": null,
      "metadata": {
        "collapsed": true,
        "id": "Gu2vDHNgiXcV"
      },
      "outputs": [],
      "source": [
        "# Index arrays are often used for sorting one or more arrays.\n",
        "unsorted_data = np.array([1, 3, 2, 12, -1, 5, 2])"
      ]
    },
    {
      "cell_type": "code",
      "execution_count": null,
      "metadata": {
        "id": "uroIWxu1iXcV"
      },
      "outputs": [],
      "source": [
        "sort_indices = np.argsort(unsorted_data)\n",
        "sort_indices"
      ]
    },
    {
      "cell_type": "code",
      "execution_count": null,
      "metadata": {
        "id": "igwLM_b1iXcV"
      },
      "outputs": [],
      "source": [
        "unsorted_data[sort_indices]"
      ]
    },
    {
      "cell_type": "code",
      "execution_count": null,
      "metadata": {
        "collapsed": true,
        "id": "7IRVEVvdiXcV"
      },
      "outputs": [],
      "source": [
        "market_caps = np.array([12, 6, 10, 5, 6])  # Presumably in dollars?\n",
        "assets = np.array(['A', 'B', 'C', 'D', 'E'])"
      ]
    },
    {
      "cell_type": "code",
      "execution_count": null,
      "metadata": {
        "id": "jE8KVrn9iXcV"
      },
      "outputs": [],
      "source": [
        "# Sort assets by market cap by using the permutation that would sort market caps on ``assets``.\n",
        "sort_by_mcap = np.argsort(market_caps)\n",
        "assets[sort_by_mcap]"
      ]
    },
    {
      "cell_type": "code",
      "execution_count": null,
      "metadata": {
        "id": "jaGW-7fTiXcW",
        "scrolled": true
      },
      "outputs": [],
      "source": [
        "# Indexers are also useful for aligning data.\n",
        "print(\"Dates:\\n\", repr(event_dates))\n",
        "print(\"Values:\\n\", repr(event_values))\n",
        "print(\"Calendar:\\n\", repr(calendar))"
      ]
    },
    {
      "cell_type": "code",
      "execution_count": null,
      "metadata": {
        "id": "Uo28AVcTiXcW"
      },
      "outputs": [],
      "source": [
        "print(\"Raw Dates:\", event_dates)\n",
        "print(\"Indices:\", calendar.searchsorted(event_dates))\n",
        "print(\"Forward-Filled Dates:\", calendar[calendar.searchsorted(event_dates)])"
      ]
    },
    {
      "cell_type": "markdown",
      "metadata": {
        "id": "oDEVEEOriXcW"
      },
      "source": [
        "On multi-dimensional arrays, we can slice along each axis independently."
      ]
    },
    {
      "cell_type": "code",
      "execution_count": null,
      "metadata": {
        "id": "prPSgZhniXcW"
      },
      "outputs": [],
      "source": [
        "data = np.arange(25).reshape(5, 5)\n",
        "data"
      ]
    },
    {
      "cell_type": "code",
      "execution_count": null,
      "metadata": {
        "id": "KAulAQ2yiXcW"
      },
      "outputs": [],
      "source": [
        "data[:2, :2]  # First two rows and first two columns."
      ]
    },
    {
      "cell_type": "code",
      "execution_count": null,
      "metadata": {
        "id": "f9_S0RcdiXcW"
      },
      "outputs": [],
      "source": [
        "data[:2, [0, -1]]  # First two rows, first and last columns."
      ]
    },
    {
      "cell_type": "code",
      "execution_count": null,
      "metadata": {
        "id": "rre5hGs9iXcW"
      },
      "outputs": [],
      "source": [
        "data[(data[:, 0] % 2) == 0]  # Rows where the first column is divisible by two."
      ]
    },
    {
      "cell_type": "markdown",
      "metadata": {
        "id": "zl1zYEQgiXcX"
      },
      "source": [
        "# Selections Review\n",
        "\n",
        "- Indexing with an integer removes a dimension.\n",
        "- Slicing operations work on Numpy arrays the same way they do on lists.\n",
        "- Indexing with a boolean array filters to True locations.\n",
        "- Indexing with an integer array selects indices along an axis.\n",
        "- Multidimensional arrays can apply selections independently along different axes."
      ]
    },
    {
      "cell_type": "markdown",
      "metadata": {
        "id": "0tDspA_KiXcX"
      },
      "source": [
        "## Reductions\n",
        "\n",
        "Functions that reduce an array to a scalar."
      ]
    },
    {
      "cell_type": "markdown",
      "metadata": {
        "id": "1s42E1qCiXcX"
      },
      "source": [
        "$Var(X) = \\frac{1}{N}\\sqrt{\\sum_{i=1}^N (x_i - \\bar{x})^2}$"
      ]
    },
    {
      "cell_type": "code",
      "execution_count": null,
      "metadata": {
        "collapsed": true,
        "id": "pkjccK94iXcX"
      },
      "outputs": [],
      "source": [
        "def variance(x):\n",
        "    return ((x - x.mean()) ** 2).sum() / len(x)"
      ]
    },
    {
      "cell_type": "code",
      "execution_count": null,
      "metadata": {
        "id": "jqiZV_FMiXcX"
      },
      "outputs": [],
      "source": [
        "variance(np.random.standard_normal(1000))"
      ]
    },
    {
      "cell_type": "markdown",
      "metadata": {
        "id": "WHVBON1qiXcX"
      },
      "source": [
        "- `sum()` and `mean()` are both **reductions**."
      ]
    },
    {
      "cell_type": "markdown",
      "metadata": {
        "id": "w7gh4_vmiXcX"
      },
      "source": [
        "- In the simplest case, we use these to reduce an entire array into a single value..."
      ]
    },
    {
      "cell_type": "code",
      "execution_count": null,
      "metadata": {
        "id": "Hxr-Py7ciXcY"
      },
      "outputs": [],
      "source": [
        "data = np.arange(30)\n",
        "data.mean()"
      ]
    },
    {
      "cell_type": "markdown",
      "metadata": {
        "id": "M1mqf-RfiXcY"
      },
      "source": [
        "- ...but we can do more interesting things with multi-dimensional arrays."
      ]
    },
    {
      "cell_type": "code",
      "execution_count": null,
      "metadata": {
        "id": "okW92XNriXcY"
      },
      "outputs": [],
      "source": [
        "data = np.arange(30).reshape(3, 10)\n",
        "data"
      ]
    },
    {
      "cell_type": "code",
      "execution_count": null,
      "metadata": {
        "id": "_DwCYNHQiXcY"
      },
      "outputs": [],
      "source": [
        "data.mean()"
      ]
    },
    {
      "cell_type": "code",
      "execution_count": null,
      "metadata": {
        "id": "Z7S6mpm3iXcY"
      },
      "outputs": [],
      "source": [
        "data.mean(axis=0)"
      ]
    },
    {
      "cell_type": "code",
      "execution_count": null,
      "metadata": {
        "id": "g-DOKtM4iXcY"
      },
      "outputs": [],
      "source": [
        "data.mean(axis=1)"
      ]
    },
    {
      "cell_type": "markdown",
      "metadata": {
        "id": "zsIEVqkgiXcY"
      },
      "source": [
        "## Reductions Review\n",
        "\n",
        "- Reductions allow us to perform efficient aggregations over arrays.\n",
        "- We can do aggregations over a single axis to collapse a single dimension.\n",
        "- Many built-in reductions (`mean`, `sum`, `min`, `max`, `median`, ...)."
      ]
    },
    {
      "cell_type": "markdown",
      "metadata": {
        "id": "hvqRiy2qiXcZ"
      },
      "source": [
        "# Broadcasting"
      ]
    },
    {
      "cell_type": "code",
      "execution_count": null,
      "metadata": {
        "id": "OyIDakdiiXcZ"
      },
      "outputs": [],
      "source": [
        "row = np.array([1, 2, 3, 4])\n",
        "column = np.array([[1], [2], [3]])\n",
        "print(\"Row:\\n\", row, sep='')\n",
        "print(\"Column:\\n\", column, sep='')"
      ]
    },
    {
      "cell_type": "code",
      "execution_count": null,
      "metadata": {
        "id": "Dej4wsX-iXcZ"
      },
      "outputs": [],
      "source": [
        "row + column"
      ]
    },
    {
      "cell_type": "markdown",
      "metadata": {
        "id": "tMdSsqXfiXcZ"
      },
      "source": [
        "<center><img src=\"https://raw.githubusercontent.com/ssanderson/pydata-toolbox/master/notebooks/images/broadcasting.png\" alt=\"Drawing\" style=\"width: 60%;\"/></center>\n",
        "\n",
        "<h5>Source: http://www.scipy-lectures.org/_images/numpy_broadcasting.png</h5>"
      ]
    },
    {
      "cell_type": "code",
      "execution_count": null,
      "metadata": {
        "id": "JVLNvazIiXcZ"
      },
      "outputs": [],
      "source": [
        "# Broadcasting is particularly useful in conjunction with reductions.\n",
        "print(\"Data:\\n\", data, sep='')\n",
        "print(\"Mean:\\n\", data.mean(axis=0), sep='')\n",
        "print(\"Data - Mean:\\n\", data - data.mean(axis=0), sep='')"
      ]
    },
    {
      "cell_type": "markdown",
      "metadata": {
        "id": "JHmGF_mGiXcZ"
      },
      "source": [
        "# Broadcasting Review\n",
        "\n",
        "- Numpy operations can work on arrays of different dimensions as long as the arrays' shapes are still \"compatible\".\n",
        "- Broadcasting works by \"tiling\" the smaller array along the missing dimension.\n",
        "- The result of a broadcasted operation is always at least as large in each dimension as the largest array in that dimension."
      ]
    },
    {
      "cell_type": "markdown",
      "metadata": {
        "id": "Tmy_pKVniXca"
      },
      "source": [
        "# Numpy Review"
      ]
    },
    {
      "cell_type": "markdown",
      "metadata": {
        "id": "TiKskIDqiXca"
      },
      "source": [
        "- Numerical algorithms are slow in pure Python because the overhead dynamic dispatch dominates our runtime."
      ]
    },
    {
      "cell_type": "markdown",
      "metadata": {
        "id": "WRex_YahiXca"
      },
      "source": [
        "- Numpy solves this problem by:\n",
        "  1. Imposing additional restrictions on the contents of arrays.\n",
        "  2. Moving the inner loops of our algorithms into compiled C code."
      ]
    },
    {
      "cell_type": "markdown",
      "metadata": {
        "id": "HHcs1cowiXca"
      },
      "source": [
        "- Using Numpy effectively often requires reworking an algorithms to use vectorized operations instead of for-loops, but the resulting operations are usually simpler, clearer, and faster than the pure Python equivalent."
      ]
    },
    {
      "cell_type": "markdown",
      "metadata": {
        "id": "GoPdOSfSiXca"
      },
      "source": [
        "<center><img src=\"https://raw.githubusercontent.com/ssanderson/pydata-toolbox/master/notebooks/images/unicorn.jpg\" alt=\"Drawing\" style=\"width: 75%;\"/></center>"
      ]
    },
    {
      "cell_type": "markdown",
      "metadata": {
        "id": "GqyHpT0DiXca"
      },
      "source": [
        "Numpy is great for many things, but..."
      ]
    },
    {
      "cell_type": "markdown",
      "metadata": {
        "id": "t2pSdZyeiXca"
      },
      "source": [
        "- Sometimes our data is equipped with a natural set of **labels**:\n",
        "  - Dates/Times\n",
        "  - Stock Tickers\n",
        "  - Field Names (e.g. Open/High/Low/Close)"
      ]
    },
    {
      "cell_type": "markdown",
      "metadata": {
        "id": "eQkbld3YiXca"
      },
      "source": [
        "- Sometimes we have **more than one type of data** that we want to keep grouped together.\n",
        "  - Tables with a mix of real-valued and categorical data."
      ]
    },
    {
      "cell_type": "markdown",
      "metadata": {
        "id": "FUUCEShmiXcb"
      },
      "source": [
        "- Sometimes we have **missing** data, which we need to ignore, fill, or otherwise work around."
      ]
    },
    {
      "cell_type": "markdown",
      "metadata": {
        "id": "7BErgdXjiXcb"
      },
      "source": [
        "<center><img src=\"https://raw.githubusercontent.com/ssanderson/pydata-toolbox/master/notebooks/images/panda-wrangling.gif\" alt=\"Drawing\" style=\"width: 75%;\"/></center>"
      ]
    },
    {
      "cell_type": "markdown",
      "metadata": {
        "id": "B-LuFQ2BiXcb"
      },
      "source": [
        "<center><img src=\"https://raw.githubusercontent.com/ssanderson/pydata-toolbox/master/notebooks/images/pandas_logo.png\" alt=\"Drawing\" style=\"width: 75%;\"/></center>\n"
      ]
    },
    {
      "cell_type": "markdown",
      "metadata": {
        "id": "B8Hv2pY4iXcb"
      },
      "source": [
        "Pandas extends Numpy with more complex data structures:\n",
        "\n",
        "- `Series`: 1-dimensional, homogenously-typed, labelled array.\n",
        "- `DataFrame`: 2-dimensional, semi-homogenous, labelled table."
      ]
    },
    {
      "cell_type": "markdown",
      "metadata": {
        "id": "xYDFME14iXcb"
      },
      "source": [
        "Pandas also provides many utilities for:\n",
        "- Input/Output\n",
        "- Data Cleaning\n",
        "- Rolling Algorithms\n",
        "- Plotting"
      ]
    },
    {
      "cell_type": "markdown",
      "metadata": {
        "id": "uOvK2ZfeiXcb"
      },
      "source": [
        "# Selection in Pandas"
      ]
    },
    {
      "cell_type": "code",
      "execution_count": null,
      "metadata": {
        "id": "G6ploxoOiXcb"
      },
      "outputs": [],
      "source": [
        "s = pd.Series(index=['a', 'b', 'c', 'd', 'e'], data=[1, 2, 3, 4, 5])\n",
        "s"
      ]
    },
    {
      "cell_type": "code",
      "execution_count": null,
      "metadata": {
        "id": "PU-7iKpqiXcc"
      },
      "outputs": [],
      "source": [
        "# There are two pieces to a Series: the index and the values.\n",
        "print(\"The index is:\", s.index)\n",
        "print(\"The values are:\", s.values)"
      ]
    },
    {
      "cell_type": "code",
      "execution_count": null,
      "metadata": {
        "id": "pUnHyGr5iXcc"
      },
      "outputs": [],
      "source": [
        "# We can look up values out of a Series by position...\n",
        "s.iloc[0]"
      ]
    },
    {
      "cell_type": "code",
      "execution_count": null,
      "metadata": {
        "id": "IyM3qqygiXcc"
      },
      "outputs": [],
      "source": [
        "# ... or by label.\n",
        "s.loc['a']"
      ]
    },
    {
      "cell_type": "code",
      "execution_count": null,
      "metadata": {
        "id": "JrCItQtiiXcc"
      },
      "outputs": [],
      "source": [
        "# Slicing works as expected...\n",
        "s.iloc[:2]"
      ]
    },
    {
      "cell_type": "code",
      "execution_count": null,
      "metadata": {
        "id": "tzTbbk9YiXcc"
      },
      "outputs": [],
      "source": [
        "# ...but it works with labels too!\n",
        "s.loc[:'c']"
      ]
    },
    {
      "cell_type": "code",
      "execution_count": null,
      "metadata": {
        "id": "qrVQ0b0ziXcd"
      },
      "outputs": [],
      "source": [
        "# Fancy indexing works the same as in numpy.\n",
        "s.iloc[[0, -1]]"
      ]
    },
    {
      "cell_type": "code",
      "execution_count": null,
      "metadata": {
        "id": "THswhsDLiXcd"
      },
      "outputs": [],
      "source": [
        "# As does boolean masking.\n",
        "s.loc[s > 2]"
      ]
    },
    {
      "cell_type": "code",
      "execution_count": null,
      "metadata": {
        "id": "nYGjpHaIiXcd"
      },
      "outputs": [],
      "source": [
        "# Element-wise operations are aligned by index.\n",
        "other_s = pd.Series({'a': 10.0, 'c': 20.0, 'd': 30.0, 'z': 40.0})\n",
        "other_s"
      ]
    },
    {
      "cell_type": "code",
      "execution_count": null,
      "metadata": {
        "id": "nkK07CuEiXcd"
      },
      "outputs": [],
      "source": [
        "s + other_s"
      ]
    },
    {
      "cell_type": "code",
      "execution_count": null,
      "metadata": {
        "id": "pePOoBl3iXcd"
      },
      "outputs": [],
      "source": [
        "# We can fill in missing values with fillna().\n",
        "(s + other_s).fillna(0.0)"
      ]
    },
    {
      "cell_type": "code",
      "execution_count": null,
      "metadata": {
        "id": "yeKr58Kuqba6"
      },
      "outputs": [],
      "source": [
        "!pip install yfinance\n",
        "import yfinance as yf"
      ]
    },
    {
      "cell_type": "code",
      "execution_count": null,
      "metadata": {
        "id": "8LYqk1oDiXcd"
      },
      "outputs": [],
      "source": [
        "# Most real datasets are read in from an external file format.\n",
        "# aapl = pd.read_csv('AAPL', parse_dates=['Date'], index_col='Date')\n",
        "\n",
        "aapl = yf.download(\"AAPL\", start = \"2013-01-01\" , end =\"2013-12-01\")\n",
        "aapl.head()"
      ]
    },
    {
      "cell_type": "code",
      "execution_count": null,
      "metadata": {
        "id": "JasJjximiXcd"
      },
      "outputs": [],
      "source": [
        "# Slicing generalizes to two dimensions as you'd expect:\n",
        "aapl.iloc[:2, :2]"
      ]
    },
    {
      "cell_type": "code",
      "execution_count": null,
      "metadata": {
        "id": "aAnXEGHMiXce"
      },
      "outputs": [],
      "source": [
        "aapl.loc[pd.Timestamp('2010-02-01'):pd.Timestamp('2010-02-04'), ['Close', 'Volume']]"
      ]
    },
    {
      "cell_type": "markdown",
      "metadata": {
        "id": "0A_fODM7uOps"
      },
      "source": [
        "# Rolling Operations"
      ]
    },
    {
      "cell_type": "markdown",
      "metadata": {
        "id": "28dFZSZmiXce"
      },
      "source": [
        "<center><img src=\"https://raw.githubusercontent.com/ssanderson/pydata-toolbox/master/notebooks/images/rolling.gif\" alt=\"Drawing\" style=\"width: 75%;\"/></center>"
      ]
    },
    {
      "cell_type": "code",
      "execution_count": null,
      "metadata": {
        "id": "-YvkXxL0iXce"
      },
      "outputs": [],
      "source": [
        "aapl.rolling(5)[['Close', 'Adj Close']].mean().plot();"
      ]
    },
    {
      "cell_type": "code",
      "execution_count": null,
      "metadata": {
        "id": "HKynE6AMiXce"
      },
      "outputs": [],
      "source": [
        "# Drop `Volume`, since it's way bigger than everything else.\n",
        "aapl.drop('Volume', axis=1).resample('2W').max().plot();"
      ]
    },
    {
      "cell_type": "code",
      "execution_count": null,
      "metadata": {
        "id": "ayoPHapZiXce"
      },
      "outputs": [],
      "source": [
        "# 30-day rolling exponentially-weighted stddev of returns.\n",
        "aapl['Close'].pct_change().ewm(span=30).std().plot();"
      ]
    },
    {
      "cell_type": "markdown",
      "metadata": {
        "id": "npT_ZgpYiXce"
      },
      "source": [
        "# \"Real World\" Data"
      ]
    },
    {
      "cell_type": "code",
      "execution_count": null,
      "metadata": {
        "id": "8gt7O6XxARd_"
      },
      "outputs": [],
      "source": [
        "from io import BytesIO\n",
        "import os\n",
        "from urllib.parse import urlencode\n",
        "\n",
        "import requests\n",
        "import numpy as np\n",
        "import pandas as pd\n",
        "\n",
        "\n",
        "def read_avocadata(start_date, end_date, cache_loc='avocadata.html'):\n",
        "    \"\"\"Download avocado data to a dataframe.\n",
        "    Parameters\n",
        "    ----------\n",
        "    \"\"\"\n",
        "    start_date = pd.Timestamp(start_date)\n",
        "    end_date = pd.Timestamp(end_date)\n",
        "    base_url = 'https://www.marketnews.usda.gov/mnp/fv-report-retail'\n",
        "    query_params = {\n",
        "        'class': ['FRUITS'],\n",
        "        'commodity': ['AVOCADOS'],\n",
        "        'compareLy': ['No'],\n",
        "        'endDate': [end_date.strftime(\"%m/%d/%Y\")],\n",
        "        'format': ['excel'],\n",
        "        'organic': ['ALL'],\n",
        "        'portal': ['fv'],\n",
        "        'region': ['ALL'],\n",
        "        'repDate': [start_date.strftime(\"%m/%d/%Y\")],\n",
        "        'type': ['retail'],\n",
        "    }\n",
        "\n",
        "    url = base_url + '?' + urlencode(query_params, doseq=1)\n",
        "\n",
        "    if not os.path.exists(cache_loc):\n",
        "        resp = requests.get(url, stream=True)\n",
        "        resp.raise_for_status()\n",
        "\n",
        "        with open(cache_loc, 'wb') as f:\n",
        "            for block in resp.iter_content(chunk_size=4096):\n",
        "                f.write(block)\n",
        "        f.close()\n",
        "\n",
        "    with open(cache_loc, 'rb') as f:\n",
        "        frame = pd.read_html(f, header=0)[0]\n",
        "\n",
        "    # Cleanup\n",
        "    frame = frame[frame['Unit'] == 'each']\n",
        "    frame['Organic'] = (frame['Organic'] == 'Y')\n",
        "    frame['Variety'].replace(\n",
        "        {'VARIOUS GREENSKIN VARIETIES': 'GREENSKIN'},\n",
        "        inplace=True,\n",
        "    )\n",
        "    frame['Date'] = pd.to_datetime(frame['Date'].values, utc=True)\n",
        "\n",
        "    frame['Region'] = frame['Region'].str.replace(' U.S.', '')\n",
        "    frame['Region'] = frame['Region'].str.replace(' ', '_')\n",
        "\n",
        "    # Drop useless columns.\n",
        "    return frame.drop(\n",
        "        ['Class', 'Commodity', 'Environment', 'Unit', '% Marked Local'],\n",
        "        axis=1,\n",
        "    )\n"
      ]
    },
    {
      "cell_type": "code",
      "execution_count": null,
      "metadata": {
        "id": "XcYC7BGAiXcf"
      },
      "outputs": [],
      "source": [
        "# from demos.avocados import read_avocadata\n",
        "\n",
        "avocados = read_avocadata('2014', '2016')\n",
        "avocados.head()"
      ]
    },
    {
      "cell_type": "markdown",
      "metadata": {
        "id": "gUinbH3UtO9q"
      },
      "source": [
        "**Our own example 34**"
      ]
    },
    {
      "cell_type": "markdown",
      "metadata": {
        "id": "eJFCB31E82-v"
      },
      "source": [
        "Consumimos el endpoint de la api de las bases de datos del gobierno para recuperar informacion, en este caso guardamos informacion de la base de datos de nacidos en el departamento de Casanare"
      ]
    },
    {
      "cell_type": "code",
      "execution_count": null,
      "metadata": {
        "id": "IitlDu3ptTDj"
      },
      "outputs": [],
      "source": [
        "import requests\n",
        "import pandas as pd\n",
        "\n",
        "response = requests.get('https://www.datos.gov.co/resource/3w74-b2fr.json?$query=SELECT%0A%20%20%60orden%60%2C%0A%20%20%60departamento_de_residencia%60%2C%0A%20%20%60nombre_ips_reps%60%2C%0A%20%20%60municpio_de_residencia%60%2C%0A%20%20%60tipo_de_id%60%2C%0A%20%20%60edad%60%2C%0A%20%20%60ciclo_de_vida%60%2C%0A%20%20%60sexo%60%2C%0A%20%20%60nacionalidad%60%2C%0A%20%20%60grupo_poblacional%60%2C%0A%20%20%60zona_de_ubicaci_n_de_la%60%2C%0A%20%20%60estado_actual_de_usuaria%60%2C%0A%20%20%60dx1%60%2C%0A%20%20%60gestacions%60%2C%0A%20%20%60partos%60%2C%0A%20%20%60cesareas%60%2C%0A%20%20%60abortos%60%2C%0A%20%20%60muertos%60%2C%0A%20%20%60vivos%60%2C%0A%20%20%60fecha_de_la_prueba_de_embarazo%60%2C%0A%20%20%60fecha_de_ingreso_al_control%60%2C%0A%20%20%60fum_d_a_mes_a_o%60%2C%0A%20%20%60edad_gestacional_a_corte%60%2C%0A%20%20%60fecha_probable_de_parto_por%60%2C%0A%20%20%60edad_gestacional_al_ingreso%60%2C%0A%20%20%60trimestre_de_ingreso_a_1%60%2C%0A%20%20%60captacion_temprana_si_no%60%2C%0A%20%20%60riesgo_obstetrico_al_ingreso%60%2C%0A%20%20%60peso_inicial_kg_antes_del%60%2C%0A%20%20%60talla_metros%60%2C%0A%20%20%60indice_de_masa_corporal_imc%60%2C%0A%20%20%60clasificaci_n_del_imc%60%2C%0A%20%20%60hipertension_arterial_si%60%2C%0A%20%20%60diabetes_si_no%60%2C%0A%20%20%60vih_si_no%60%2C%0A%20%20%60sifilis_si_no%60%2C%0A%20%20%60tuberculosis_si_no%60%2C%0A%20%20%60apoyo_familiar_si_no%60%2C%0A%20%20%60embarazo_deseado_si_no%60%2C%0A%20%20%60h_bitos_de_riesgo_fumar%60%2C%0A%20%20%60ha_sido_victima_de_violencia%60%2C%0A%20%20%60ha_sido_victima_de_abuso%60%2C%0A%20%20%60informaci_n_de_causales_para%60%2C%0A%20%20%60fecha_de_1_control_prenatal%60%2C%0A%20%20%60fecha_de_2_control_prenatal%60%2C%0A%20%20%60fecha_de_3_control_prenatal%60%2C%0A%20%20%60fecha_de_4_control_prenatal%60%2C%0A%20%20%60fecha_de_5_control_prenatal%60%2C%0A%20%20%60fecha_de_6_control_prenatal%60%2C%0A%20%20%60fecha_de_7_control_prenatal%60%2C%0A%20%20%60fecha_de_8_control_prenatal%60%2C%0A%20%20%60fecha_de_9_control_prenatal%60%2C%0A%20%20%60fecha_de_ultimo_control_d%60%2C%0A%20%20%60peso_en_el_ultimo_control%60%2C%0A%20%20%60riesgo_obstetrico_ultimo%60%2C%0A%20%20%60sistolica_ultimo_control%60%2C%0A%20%20%60diastolica_ultimo_control%60%2C%0A%20%20%60fecha_de_consulta_por%60%2C%0A%20%20%60fecha_de_1_consulta_de%60%2C%0A%20%20%60fecha_de_2_consulta_de%60%2C%0A%20%20%60fecha_de_consulta_de%60%2C%0A%20%20%60fecha_de_consulta_de_1%60%2C%0A%20%20%60ecografia_entre_las_semanas%60%2C%0A%20%20%60fecha_de_eco_de_detalle_semana%60%2C%0A%20%20%60fecha_eco_obstetrica_iii%60%2C%0A%20%20%60fecha_de_aplicaci_n_influenza%60%2C%0A%20%20%60fecha_de_aplicaci_n_tdap%60%2C%0A%20%20%60nombre_biologico_contra_covid%60%2C%0A%20%20%60fecha_1_dosis_covid_19%60%2C%0A%20%20%60fecha_2_dosis_covid_19%60%2C%0A%20%20%60fecha_3_dosis_covid_19%60%2C%0A%20%20%60fecha_toma_hemograma_a_o%60%2C%0A%20%20%60resultado_hemograma%60%2C%0A%20%20%60fecha_toma_urocultivo_a_o%60%2C%0A%20%20%60resultado_urocultivo_con%60%2C%0A%20%20%60fecha_toma_ultimo_urocultivo%60%2C%0A%20%20%60resultado_ltimo_urocultivo%60%2C%0A%20%20%60fecha_toma_1_vih_a_o_mes%60%2C%0A%20%20%60resultado_elisa_para_detecci%60%2C%0A%20%20%60fecha_toma_1_vdrl_a_o_mes%60%2C%0A%20%20%60resultado_1_vdrl%60%2C%0A%20%20%60fecha_toma_ig_g_rubeola_a%60%2C%0A%20%20%60resultado_ig_g_rubeola%60%2C%0A%20%20%60fecha_toma_ig_m_rubeola_a%60%2C%0A%20%20%60resultado_ig_m_rubeola%60%2C%0A%20%20%60fecha_ig_g_toxoplasma_gondi%60%2C%0A%20%20%60resultado_ig_g_toxoplasma%60%2C%0A%20%20%60fecha_ig_m_toxoplasma_gondi%60%2C%0A%20%20%60resultado_ig_m_toxoplasma%60%2C%0A%20%20%60fecha_toma_chagas_a_o_mes%60%2C%0A%20%20%60resultado_chagas%60%2C%0A%20%20%60fecha_toma_tsh_a_o_mes_d%60%2C%0A%20%20%60resultado_tsh%60%2C%0A%20%20%60fecha_toma_hemoclasificaci%60%2C%0A%20%20%60resultado_hemoclasificaci%60%2C%0A%20%20%60fecha_toma_glicemia_a_o_mes%60%2C%0A%20%20%60reporte_de_glicemia_a_o_mes%60%2C%0A%20%20%60fecha_toma_hepatitis_b_hbsag%60%2C%0A%20%20%60resultado_hepatitis_b_hbsag%60%2C%0A%20%20%60fecha_toma_de_parcial_de%60%2C%0A%20%20%60resultado_del_parcial_de%60%2C%0A%20%20%60fecha_toma_frotis_vaginal%60%2C%0A%20%20%60reporte_de_frotis_de_flujo%60%2C%0A%20%20%60fecha_toma_prueba_tolerancia%60%2C%0A%20%20%60reporte_de_prueba_de%60%2C%0A%20%20%60fecha_2_toma_de_vdrl_a_o%60%2C%0A%20%20%60resultado_vdrl%60%2C%0A%20%20%60fecha_de_consejer_a_para%60%2C%0A%20%20%60fecha_toma_2_vih_a_o_mes%60%2C%0A%20%20%60resultado_prueba_vih%60%2C%0A%20%20%60fecha_toma_cultivo_vaginal%60%2C%0A%20%20%60resusltado_cutlivo_vaginal%60%2C%0A%20%20%60fecha_toma_2_hemograma_a%60%2C%0A%20%20%60resultado_de_hemoglobina%60%2C%0A%20%20%60fecha_de_consejer_a_para_1%60%2C%0A%20%20%60fecha_toma_3_vih_dia_mes%60%2C%0A%20%20%60resultado_prueba_vih_1%60%2C%0A%20%20%60fecha_toma_de_3_vdrl_a_o%60%2C%0A%20%20%60resultado_3_vdrl%60%2C%0A%20%20%60plan_de_parto_via_de_parto%60%2C%0A%20%20%60fecha_de_asesoria_lactancia%60%2C%0A%20%20%60fecha_de_parto_dia_mes_a%60%2C%0A%20%20%60caracteristicas_del_parto%60%2C%0A%20%20%60ips_atencion_parto%60%2C%0A%20%20%60no_semanas_de_gestaci_n%60%2C%0A%20%20%60suministran_m_todo_de%60%2C%0A%20%20%60tipo_de_metodo%60%2C%0A%20%20%60tipo_id%60%2C%0A%20%20%60sexo_1%60%2C%0A%20%20%60peso_al_nacer_grs%60%2C%0A%20%20%60talla_cm%60%2C%0A%20%20%60toman_tsh_neonatal%60%2C%0A%20%20%60resultado_tsh_1%60%2C%0A%20%20%60fecha_vacunaci_n_con_bcg%60%2C%0A%20%20%60fecha_vacunaci_n_hepatitis%60')\n",
        "\n",
        "data = response.json()\n",
        "\n",
        "resultados = pd.DataFrame(data)\n",
        "\n",
        "\n",
        "resultados.head()"
      ]
    },
    {
      "cell_type": "markdown",
      "metadata": {
        "id": "UrEHpSQOzO6r"
      },
      "source": [
        "**Our own example 35**"
      ]
    },
    {
      "cell_type": "markdown",
      "metadata": {
        "id": "a5tLHrpnByAN"
      },
      "source": [
        "Filtramos y mostramos unicamente los resultado de los residentes en yopal"
      ]
    },
    {
      "cell_type": "code",
      "execution_count": null,
      "metadata": {
        "id": "GnIFoHpIzSnl"
      },
      "outputs": [],
      "source": [
        "# We filter to show only results from patients residing in Yopal\n",
        "resultados_yopal = resultados.loc[resultados['municpio_de_residencia'] == 'YOPAL']\n",
        "resultados_yopal"
      ]
    },
    {
      "cell_type": "markdown",
      "metadata": {
        "id": "N6uNtat4zX1h"
      },
      "source": [
        "**Our own example 36**"
      ]
    },
    {
      "cell_type": "code",
      "execution_count": null,
      "metadata": {
        "id": "s_l-OwUlza80"
      },
      "outputs": [],
      "source": [
        "# We show the types of Data of our DataFrame\n",
        "pacientes_por_municipio = resultados.groupby('municpio_de_residencia')['orden'].count()\n",
        "print(pacientes_por_municipio)"
      ]
    },
    {
      "cell_type": "code",
      "execution_count": null,
      "metadata": {
        "id": "tjk0EsEsiXcf"
      },
      "outputs": [],
      "source": [
        "# Unlike numpy arrays, pandas DataFrames can have a different dtype for each column.\n",
        "avocados.dtypes"
      ]
    },
    {
      "cell_type": "markdown",
      "metadata": {
        "id": "oX5yL0sEtbTK"
      },
      "source": [
        "**Our own example 37**"
      ]
    },
    {
      "cell_type": "code",
      "execution_count": null,
      "metadata": {
        "id": "SNYzTI2ptwjX"
      },
      "outputs": [],
      "source": [
        "resultados.dtypes"
      ]
    },
    {
      "cell_type": "code",
      "execution_count": null,
      "metadata": {
        "id": "YcpqjQCdiXcf"
      },
      "outputs": [],
      "source": [
        "# What's the regional average price of a HASS avocado every day?\n",
        "hass = avocados[avocados.Variety == 'HASS']\n",
        "hass.groupby(['Date', 'Region'])['Weighted Avg Price'].mean().unstack().ffill().plot();"
      ]
    },
    {
      "cell_type": "markdown",
      "metadata": {
        "id": "PhgJZaZAtzpk"
      },
      "source": [
        "**Our own example 38**"
      ]
    },
    {
      "cell_type": "markdown",
      "metadata": {
        "id": "pzUJy6qq_krn"
      },
      "source": [
        "Graficamos la cantidad de pacientes agrupandolos por municipio de residencia"
      ]
    },
    {
      "cell_type": "code",
      "execution_count": null,
      "metadata": {
        "id": "bZfBF2slt36A"
      },
      "outputs": [],
      "source": [
        "import matplotlib.pyplot as plt\n",
        "pacientes_por_municipio = resultados.groupby('municpio_de_residencia')['orden'].count()\n",
        "pacientes_por_municipio.plot(kind='bar')\n",
        "plt.title('Cantidad de pacientes por municipio')\n",
        "plt.xlabel('Municipio')\n",
        "plt.ylabel('Cantidad de pacientes')\n",
        "plt.show()"
      ]
    },
    {
      "cell_type": "code",
      "execution_count": null,
      "metadata": {
        "collapsed": true,
        "id": "k1Zdnr4jiXcf"
      },
      "outputs": [],
      "source": [
        "def _organic_spread(group):\n",
        "\n",
        "    if len(group.columns) != 2:\n",
        "        return pd.Series(index=group.index, data=0.0)\n",
        "\n",
        "    is_organic = group.columns.get_level_values('Organic').values.astype(bool)\n",
        "    organics = group.loc[:, is_organic].squeeze()\n",
        "    non_organics = group.loc[:, ~is_organic].squeeze()\n",
        "    diff = organics - non_organics\n",
        "    return diff\n",
        "\n",
        "def organic_spread_by_region(df):\n",
        "    \"\"\"What's the difference between the price of an organic\n",
        "    and non-organic avocado within each region?\n",
        "    \"\"\"\n",
        "    return (\n",
        "        df\n",
        "        .set_index(['Date', 'Region', 'Organic'])\n",
        "         ['Weighted Avg Price']\n",
        "        .unstack(level=['Region', 'Organic'])\n",
        "        .ffill()\n",
        "        .groupby(level='Region', axis=1)\n",
        "        .apply(_organic_spread)\n",
        "    )"
      ]
    },
    {
      "cell_type": "code",
      "execution_count": null,
      "metadata": {
        "id": "iU-Th92BiXcf"
      },
      "outputs": [],
      "source": [
        "organic_spread_by_region(hass).plot();\n",
        "plt.gca().set_title(\"Daily Regional Organic Spread\");\n",
        "plt.legend(bbox_to_anchor=(1, 1));"
      ]
    },
    {
      "cell_type": "markdown",
      "metadata": {
        "id": "2DwXWhouuE6G"
      },
      "source": [
        "**Our own example 39**"
      ]
    },
    {
      "cell_type": "code",
      "execution_count": null,
      "metadata": {
        "id": "P2BHiwbiuIO2"
      },
      "outputs": [],
      "source": [
        "plt.scatter(resultados['ciclo_de_vida'], resultados['peso_al_nacer_grs'])\n",
        "plt.xlabel('Ciclo de vida')\n",
        "plt.ylabel('Peso al nacer (gramos)')\n",
        "plt.title('Correlación entre ciclo de vida y peso al nacer')\n",
        "plt.show()"
      ]
    },
    {
      "cell_type": "code",
      "execution_count": null,
      "metadata": {
        "id": "vjR02HpEiXcg"
      },
      "outputs": [],
      "source": [
        "spread_correlation = organic_spread_by_region(hass).corr()\n",
        "spread_correlation"
      ]
    },
    {
      "cell_type": "code",
      "execution_count": null,
      "metadata": {
        "id": "-fbKjqw6iXcg"
      },
      "outputs": [],
      "source": [
        "import seaborn as sns\n",
        "grid = sns.clustermap(spread_correlation, annot=True)\n",
        "fig = grid.fig\n",
        "axes = fig.axes\n",
        "ax = axes[2]\n",
        "ax.set_xticklabels(ax.get_xticklabels(), rotation=45);"
      ]
    },
    {
      "cell_type": "markdown",
      "metadata": {
        "id": "f3RwQ-aluWnA"
      },
      "source": [
        "**Our own example 40**"
      ]
    },
    {
      "cell_type": "markdown",
      "metadata": {
        "id": "PUQ_t7SsAAF0"
      },
      "source": [
        "Graficamos el promedio de edad de las madres por municipio"
      ]
    },
    {
      "cell_type": "code",
      "execution_count": null,
      "metadata": {
        "id": "vbZt0YRsuaQE"
      },
      "outputs": [],
      "source": [
        "to_int = lambda x: int(x) if str(x).isdigit() else 0\n",
        "resultados['edad'] = resultados['edad'].apply(to_int)\n",
        "departamento_edad = resultados.groupby('municpio_de_residencia')['edad'].mean()\n",
        "colors = ['blue','blue', 'purple', 'black', \"purple\"]\n",
        "fig, ax = plt.subplots()\n",
        "departamento_edad.plot(kind='bar', ax=ax, color=colors)\n",
        "ax.set_title('Promedio de edad de pacientes por Municipio')\n",
        "ax.set_xlabel('Departamento de residencia')\n",
        "ax.set_ylabel('Promedio de edad')\n",
        "plt.show()"
      ]
    },
    {
      "cell_type": "markdown",
      "metadata": {
        "id": "-6jsBAhQiXcg"
      },
      "source": [
        "# Pandas Review\n",
        "\n",
        "- Pandas extends numpy with more complex datastructures and algorithms.\n",
        "- If you understand numpy, you understand 90% of pandas.\n",
        "- `groupby`, `set_index`, and `unstack` are powerful tools for working with categorical data.\n",
        "- Avocado prices are surprisingly interesting :)"
      ]
    },
    {
      "cell_type": "markdown",
      "metadata": {
        "id": "_u_fG58UiXcg"
      },
      "source": [
        "# Thanks!"
      ]
    },
    {
      "cell_type": "markdown",
      "source": [
        "#Datos Colombia\n",
        "Cargar el dataset de datos colombia sobre los beneficiarios de familias en accioón desde aca: https://www.datos.gov.co/Inclusi-n-Social-y-Reconciliaci-n/FAMILIAS-FOCALIZADAS-PRIMERA-FASE-DEL-PROGRAMA-DE-/xswh-ityu/about_data\n",
        "\n"
      ],
      "metadata": {
        "id": "e3-l1XjCu8nQ"
      }
    },
    {
      "cell_type": "code",
      "source": [
        "from urllib.parse import urlencode\n",
        "import pandas as pd\n",
        "import requests\n",
        "import matplotlib.pyplot as plt\n",
        "import matplotlib.cm as cm\n",
        "\n",
        "data = requests.get(\"https://www.datos.gov.co/resource/xswh-ityu.json\")\n",
        "dfFamilias = pd.DataFrame(data.json())\n",
        "dfFamilias.head()"
      ],
      "metadata": {
        "id": "DP3PJkMsu7P7"
      },
      "execution_count": null,
      "outputs": []
    },
    {
      "cell_type": "code",
      "source": [
        "genero = dfFamilias.genero.value_counts()\n",
        "genero.plot(kind='bar', stacked=True)\n",
        "plt.title(\"Distribucion de subsidio segun genero\")\n",
        "plt.ylabel(\"Beneficiarios\")\n",
        "plt.xlabel('Sexo')\n",
        "plt.xticks(rotation=0)"
      ],
      "metadata": {
        "id": "tOn3saaPxc3b"
      },
      "execution_count": null,
      "outputs": []
    },
    {
      "cell_type": "code",
      "source": [
        "import matplotlib.pyplot as plt\n",
        "\n",
        "\n",
        "# Contar los valores de edades\n",
        "edades = dfFamilias['rangoedad'].value_counts()\n",
        "\n",
        "# Graficar\n",
        "edades.plot(kind='pie', autopct='%1.1f%%', stacked=True, labels=None)  # Pasar labels=None\n",
        "plt.title(\"Distribucion de subsidio por edades\")\n",
        "plt.ylabel(\"\")\n",
        "\n",
        "# Ajustar los rangos de edad para que incluyan \"Años\"\n",
        "#dfFamilias['rangoedad'] = dfFamilias['rangoedad'] + \" Años\"\n",
        "\n",
        "# Colocar la leyenda en la parte superior izquierda\n",
        "plt.legend(title='Rangos', loc='upper left', labels=edades.index , bbox_to_anchor=(1, 1))\n",
        "\n",
        "plt.xticks(rotation=0)\n",
        "plt.show()\n"
      ],
      "metadata": {
        "id": "5OcKNrJ95w6y"
      },
      "execution_count": null,
      "outputs": []
    },
    {
      "cell_type": "code",
      "source": [
        "# Crear el gráfico de área\n",
        "# Supongamos que tienes un DataFrame llamado dfFamilias con las columnas 'tipobeneficio' y 'tipopoblacion'\n",
        "\n",
        "# Filtrar los datos\n",
        "df_filt = dfFamilias[(dfFamilias['tipopoblacion'] != 'ND') & (dfFamilias['tipobeneficio'] != 'ND')]\n",
        "\n",
        "# Contar los valores para cada combinación de tipo de beneficio y tipo de población\n",
        "distribucion = df_filt.groupby(['tipobeneficio', 'tipopoblacion']).size().unstack().fillna(0)\n",
        "\n",
        "# Crear el gráfico de área\n",
        "plt.figure(figsize=(10, 6))\n",
        "distribucion.plot(kind='area', stacked=True)\n",
        "plt.title(\"Distribución de Subsidio por Tipo de Beneficio y Tipo de Población\")\n",
        "plt.xlabel('Tipo de Beneficio')\n",
        "plt.ylabel('Cantidad')\n",
        "plt.xticks(rotation=45)\n",
        "plt.grid(True)\n",
        "plt.show()"
      ],
      "metadata": {
        "id": "UesvS4Vo63-5"
      },
      "execution_count": null,
      "outputs": []
    }
  ],
  "metadata": {
    "celltoolbar": "Slideshow",
    "colab": {
      "collapsed_sections": [
        "gh1Uw4KtiXcK",
        "K81LXWsCiXcS",
        "9EsiKbSCiXcT",
        "zsIEVqkgiXcY",
        "JHmGF_mGiXcZ",
        "-6jsBAhQiXcg",
        "_u_fG58UiXcg"
      ],
      "provenance": [],
      "include_colab_link": true
    },
    "kernelspec": {
      "display_name": "Python 3",
      "language": "python",
      "name": "python3"
    },
    "language_info": {
      "codemirror_mode": {
        "name": "ipython",
        "version": 3
      },
      "file_extension": ".py",
      "mimetype": "text/x-python",
      "name": "python",
      "nbconvert_exporter": "python",
      "pygments_lexer": "ipython3",
      "version": "3.11.8"
    },
    "livereveal": {
      "start_slideshow_at": "selected"
    },
    "name": "Main.ipynb"
  },
  "nbformat": 4,
  "nbformat_minor": 0
}